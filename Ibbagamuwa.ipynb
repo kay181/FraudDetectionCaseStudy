{
  "nbformat": 4,
  "nbformat_minor": 0,
  "metadata": {
    "colab": {
      "provenance": [],
      "authorship_tag": "ABX9TyNZXwfQSt0rV0boErRyJqeQ",
      "include_colab_link": true
    },
    "kernelspec": {
      "name": "python3",
      "display_name": "Python 3"
    },
    "language_info": {
      "name": "python"
    }
  },
  "cells": [
    {
      "cell_type": "markdown",
      "metadata": {
        "id": "view-in-github",
        "colab_type": "text"
      },
      "source": [
        "<a href=\"https://colab.research.google.com/github/kay181/FraudDetectionCaseStudy/blob/main/Ibbagamuwa.ipynb\" target=\"_parent\"><img src=\"https://colab.research.google.com/assets/colab-badge.svg\" alt=\"Open In Colab\"/></a>"
      ]
    },
    {
      "cell_type": "code",
      "execution_count": 1,
      "metadata": {
        "id": "LS999DzHhdjm"
      },
      "outputs": [],
      "source": [
        "import pandas as pd\n",
        "import numpy as np\n",
        "import seaborn as sns\n",
        "import matplotlib.pyplot as plt"
      ]
    },
    {
      "cell_type": "code",
      "execution_count": 2,
      "metadata": {
        "colab": {
          "base_uri": "https://localhost:8080/"
        },
        "id": "TyFvbfljovcA",
        "outputId": "4ed7db7a-7111-4922-b2fa-9690378e83e9"
      },
      "outputs": [
        {
          "output_type": "stream",
          "name": "stdout",
          "text": [
            "Drive already mounted at /content/drive; to attempt to forcibly remount, call drive.mount(\"/content/drive\", force_remount=True).\n"
          ]
        }
      ],
      "source": [
        "# Mount Google Drive\n",
        "from google.colab import drive\n",
        "drive.mount('/content/drive')"
      ]
    },
    {
      "cell_type": "code",
      "source": [
        "file_path = '/content/drive/My Drive/Final Research/Data set/Ibbagamuwa.xlsx'  # Update the path accordingly\n",
        "\n",
        "data = pd.read_excel(file_path) # reading an Excel file"
      ],
      "metadata": {
        "id": "-pF8WhtXo4Vi"
      },
      "execution_count": 3,
      "outputs": []
    },
    {
      "cell_type": "code",
      "source": [
        "print(data.info())"
      ],
      "metadata": {
        "colab": {
          "base_uri": "https://localhost:8080/"
        },
        "id": "cnn0r3OFexMq",
        "outputId": "66e358a1-8cfa-451c-b36e-4c727d079224"
      },
      "execution_count": 4,
      "outputs": [
        {
          "output_type": "stream",
          "name": "stdout",
          "text": [
            "<class 'pandas.core.frame.DataFrame'>\n",
            "RangeIndex: 196 entries, 0 to 195\n",
            "Data columns (total 32 columns):\n",
            " #   Column                      Non-Null Count  Dtype  \n",
            "---  ------                      --------------  -----  \n",
            " 0   අනතුරු දර්ශකය               195 non-null    float64\n",
            " 1   දිනය                        195 non-null    object \n",
            " 2   සතියේ දිනය                  195 non-null    object \n",
            " 3   වෙලාව                       195 non-null    object \n",
            " 4   අනතුරේ බරපතලකම              195 non-null    object \n",
            " 5   රියදුරුගේ වයස               196 non-null    int64  \n",
            " 6   රියදුරුගේ ලිංගිකත්වය        195 non-null    object \n",
            " 7   මත්පැන් පරිභෝජනය            196 non-null    object \n",
            " 8   හිස්වැසුම් භාවිතය           195 non-null    object \n",
            " 9    වේගය                       196 non-null    object \n",
            " 10  රිය බලපත්ර                  195 non-null    object \n",
            " 11  රිය පැදවීමේ පළපුරුද්ද       195 non-null    object \n",
            " 12  වාහන වර්ගය                  196 non-null    object \n",
            " 13  වාහන රියදුරු සම්බන්ධය       195 non-null    object \n",
            " 14  වාහනයේ සේවා_වසර             194 non-null    float64\n",
            " 15  වාහන වයස සහ නඩත්තුව         195 non-null    object \n",
            " 16  අනතුර_සිදු වූ ප්‍රදේශ       195 non-null    object \n",
            " 17  මංතීරු_හෝ_මධ්‍යයන්          195 non-null    object \n",
            " 18  හන්දි වර්ග                  194 non-null    object \n",
            " 19  මාර්ග_මතුපිට_තත්වය          195 non-null    object \n",
            " 20  ආලෝක_තත්වය                  195 non-null    object \n",
            " 21  කාලගුණ_තත්වය                195 non-null    object \n",
            " 22  ගැටීමේ_වර්ගය                195 non-null    object \n",
            " 23  ගැටීම තත්වය                 195 non-null    object \n",
            " 24  වාහන_චලනය                   195 non-null    object \n",
            " 25  සම්බන්ධ වූ_වාහන_සංඛ්‍යාව    195 non-null    float64\n",
            " 26  තුවාල ලැබූ පුද්ගලයින් ගණන   194 non-null    object \n",
            " 27  ඝාතනය වූ පුද්ගලයන් ගණන      194 non-null    object \n",
            " 28  අනතුරු_පංතිය                195 non-null    object \n",
            " 29  පෙර කඩා වැටීමේ සාධක         195 non-null    object \n",
            " 30  අනතුර_හේතුව                 195 non-null    object \n",
            " 31  පදික_චලනය                   195 non-null    object \n",
            "dtypes: float64(3), int64(1), object(28)\n",
            "memory usage: 49.1+ KB\n",
            "None\n"
          ]
        }
      ]
    },
    {
      "cell_type": "code",
      "source": [
        "data.shape"
      ],
      "metadata": {
        "colab": {
          "base_uri": "https://localhost:8080/"
        },
        "id": "N62jRSYRYLh8",
        "outputId": "1b437865-8f7c-401a-b49c-5aeee1b51af0"
      },
      "execution_count": 5,
      "outputs": [
        {
          "output_type": "execute_result",
          "data": {
            "text/plain": [
              "(196, 32)"
            ]
          },
          "metadata": {},
          "execution_count": 5
        }
      ]
    },
    {
      "cell_type": "code",
      "source": [
        "# Drop the last row\n",
        "data = data.drop(data.index[-1])\n",
        "\n",
        "# Print the shape to verify the last row is removed.\n",
        "data.shape"
      ],
      "metadata": {
        "colab": {
          "base_uri": "https://localhost:8080/"
        },
        "id": "u1FoWgbYYQGp",
        "outputId": "f4133313-4099-48c3-f001-ca65023a60ac"
      },
      "execution_count": 6,
      "outputs": [
        {
          "output_type": "execute_result",
          "data": {
            "text/plain": [
              "(195, 32)"
            ]
          },
          "metadata": {},
          "execution_count": 6
        }
      ]
    },
    {
      "cell_type": "code",
      "source": [
        "print(data.head())"
      ],
      "metadata": {
        "colab": {
          "base_uri": "https://localhost:8080/"
        },
        "id": "5KcvzT-ragfS",
        "outputId": "407fac2c-195c-4e86-c906-87ba089fa9cd"
      },
      "execution_count": 7,
      "outputs": [
        {
          "output_type": "stream",
          "name": "stdout",
          "text": [
            "   අනතුරු දර්ශකය         දිනය සතියේ දිනය  වෙලාව අනතුරේ බරපතලකම   \\\n",
            "0            1.0   2022'01'01   සෙනසුරාදා   600           බරපතල   \n",
            "1            2.0  2022.01.01    සෙනසුරාදා  1210           බරපතල   \n",
            "2            3.0   2022.01.03       සදුදා  1720           බරපතල   \n",
            "3            4.0  2022.01.09        ඉරිදා  1710      සුළු තුවාල   \n",
            "4            5.0   2022.01.12       සදුදා  1530           බරපතල   \n",
            "\n",
            "   රියදුරුගේ වයස       රියදුරුගේ ලිංගිකත්වය  මත්පැන් පරිභෝජනය   \\\n",
            "0                   41                 පුරුෂ               නැත   \n",
            "1                   46                 පුරුෂ               නැත   \n",
            "2                   18                 පුරුෂ               නැත   \n",
            "3                   30                 පුරුෂ                ඇත   \n",
            "4                   24                 පුරුෂ               නැත   \n",
            "\n",
            "  හිස්වැසුම් භාවිතය    වේගය  ... ගැටීමේ_වර්ගය          ගැටීම තත්වය වාහන_චලනය  \\\n",
            "0                නැත  නොදනි  ...          වාහන        පිටුපස ගැටිම    කෙලින්   \n",
            "1                නැත  නොදනි  ...          වාහන           දකුනට බරව  කෙලි න්    \n",
            "2                 ඇත  නොදනි  ...          වාහන        මුහුණට මුහුණ    කෙලින්   \n",
            "3                නැත  නොදනි  ...          වාහන        පිටුපස ගැටිම   කෙලින්    \n",
            "4                නැත  නොදනි  ...          වාහන           දකුණට බරව    කෙලින්   \n",
            "\n",
            "  සම්බන්ධ වූ_වාහන_සංඛ්‍යාව  තුවාල ලැබූ පුද්ගලයින් ගණන   \\\n",
            "0                      3.0                           2   \n",
            "1                      2.0                           1   \n",
            "2                      2.0                           1   \n",
            "3                      3.0                           2   \n",
            "4                      2.0                           2   \n",
            "\n",
            "  ඝාතනය වූ පුද්ගලයන් ගණන   අනතුරු_පංතිය  පෙර කඩා වැටීමේ සාධක   \\\n",
            "0                     NaN  රියදුරු,මගියා                නොදනි   \n",
            "1                     නැත       රියදුරු,                නොදනි   \n",
            "2                     නැත        පැදිකරු                නොදනි   \n",
            "3                     නැත          මගින්                නොදනි   \n",
            "4                     නැත  පැදිකරු,මගියා                නොදනි   \n",
            "\n",
            "        අනතුර_හේතුව       පදික_චලනය  \n",
            "0   නොසැලිකිලිමත්කම    පදිකයෙක්නොවේ  \n",
            "1  නොසැලිකිලිමත් කම    පදිකයෙක්නොවේ  \n",
            "2    නොසැලිකිලමත්කම   පදිකයෙක් නොවේ  \n",
            "3     නොසැලකිලිමත්   පදිකයෙක් නොවේ.  \n",
            "4   නොසැලිකිලිමත්කම  පදිකායක් නොවේ.  \n",
            "\n",
            "[5 rows x 32 columns]\n"
          ]
        }
      ]
    },
    {
      "cell_type": "code",
      "source": [
        "numerical_data = data.select_dtypes(include=['number'])\n",
        "numerical_cols = numerical_data.columns.tolist()\n",
        "categorical_data = data.select_dtypes(exclude=['number'])\n",
        "categorical_cols = categorical_data.columns.tolist()\n",
        "\n",
        "print(\"Numerical Columns:\", numerical_cols)\n",
        "print(\"Categorical Columns:\", categorical_cols)"
      ],
      "metadata": {
        "colab": {
          "base_uri": "https://localhost:8080/"
        },
        "id": "BcVEdaXhcHUL",
        "outputId": "ebb35d8a-f742-4070-aad0-22302aee4d89"
      },
      "execution_count": 8,
      "outputs": [
        {
          "output_type": "stream",
          "name": "stdout",
          "text": [
            "Numerical Columns: ['අනතුරු දර්ශකය', 'රියදුරුගේ වයස      ', 'වාහනයේ සේවා_වසර', 'සම්බන්ධ වූ_වාහන_සංඛ්\\u200dයාව']\n",
            "Categorical Columns: ['දිනය', 'සතියේ දිනය ', 'වෙලාව', 'අනතුරේ බරපතලකම ', 'රියදුරුගේ ලිංගිකත්වය ', 'මත්පැන් පරිභෝජනය ', 'හිස්වැසුම් භාවිතය ', ' වේගය', 'රිය බලපත්ර ', 'රිය පැදවීමේ පළපුරුද්ද ', 'වාහන වර්ගය ', 'වාහන රියදුරු සම්බන්ධය ', 'වාහන වයස සහ නඩත්තුව', 'අනතුර_සිදු වූ ප්\\u200dරදේශ ', 'මංතීරු_හෝ_මධ්\\u200dයයන් ', 'හන්දි වර්ග ', 'මාර්ග_මතුපිට_තත්වය ', 'ආලෝක_තත්වය ', 'කාලගුණ_තත්වය ', 'ගැටීමේ_වර්ගය ', 'ගැටීම තත්වය', 'වාහන_චලනය', 'තුවාල ලැබූ පුද්ගලයින් ගණන ', 'ඝාතනය වූ පුද්ගලයන් ගණන ', 'අනතුරු_පංතිය ', 'පෙර කඩා වැටීමේ සාධක ', 'අනතුර_හේතුව', 'පදික_චලනය']\n"
          ]
        }
      ]
    },
    {
      "cell_type": "code",
      "source": [
        "# Drop the column 'වේගය'\n",
        "if ' වේගය' in data.columns:\n",
        "    data = data.drop(' වේගය', axis=1)\n",
        "    print(\"Column 'වේගය' dropped successfully.\")\n",
        "else:\n",
        "    print(\"Column 'වේගය' not found in the DataFrame.\")"
      ],
      "metadata": {
        "colab": {
          "base_uri": "https://localhost:8080/"
        },
        "id": "_evNMfUgdXLq",
        "outputId": "94822c91-3ef0-4baf-c1e1-a18b553954df"
      },
      "execution_count": 9,
      "outputs": [
        {
          "output_type": "stream",
          "name": "stdout",
          "text": [
            "Column 'වේගය' dropped successfully.\n"
          ]
        }
      ]
    },
    {
      "cell_type": "code",
      "source": [
        "data.shape"
      ],
      "metadata": {
        "colab": {
          "base_uri": "https://localhost:8080/"
        },
        "id": "IVQTba4XdPsW",
        "outputId": "b4077284-e106-44be-8b95-1712e27ff6ab"
      },
      "execution_count": 10,
      "outputs": [
        {
          "output_type": "execute_result",
          "data": {
            "text/plain": [
              "(195, 31)"
            ]
          },
          "metadata": {},
          "execution_count": 10
        }
      ]
    },
    {
      "cell_type": "code",
      "source": [
        "print(data.info())"
      ],
      "metadata": {
        "colab": {
          "base_uri": "https://localhost:8080/"
        },
        "id": "uCiqwKNmddVh",
        "outputId": "fcc7f2f1-318d-4a8e-91a2-a718b7f4fedc"
      },
      "execution_count": 11,
      "outputs": [
        {
          "output_type": "stream",
          "name": "stdout",
          "text": [
            "<class 'pandas.core.frame.DataFrame'>\n",
            "RangeIndex: 195 entries, 0 to 194\n",
            "Data columns (total 31 columns):\n",
            " #   Column                      Non-Null Count  Dtype  \n",
            "---  ------                      --------------  -----  \n",
            " 0   අනතුරු දර්ශකය               195 non-null    float64\n",
            " 1   දිනය                        195 non-null    object \n",
            " 2   සතියේ දිනය                  195 non-null    object \n",
            " 3   වෙලාව                       195 non-null    object \n",
            " 4   අනතුරේ බරපතලකම              195 non-null    object \n",
            " 5   රියදුරුගේ වයස               195 non-null    int64  \n",
            " 6   රියදුරුගේ ලිංගිකත්වය        195 non-null    object \n",
            " 7   මත්පැන් පරිභෝජනය            195 non-null    object \n",
            " 8   හිස්වැසුම් භාවිතය           195 non-null    object \n",
            " 9   රිය බලපත්ර                  195 non-null    object \n",
            " 10  රිය පැදවීමේ පළපුරුද්ද       194 non-null    object \n",
            " 11  වාහන වර්ගය                  195 non-null    object \n",
            " 12  වාහන රියදුරු සම්බන්ධය       195 non-null    object \n",
            " 13  වාහනයේ සේවා_වසර             194 non-null    float64\n",
            " 14  වාහන වයස සහ නඩත්තුව         195 non-null    object \n",
            " 15  අනතුර_සිදු වූ ප්‍රදේශ       195 non-null    object \n",
            " 16  මංතීරු_හෝ_මධ්‍යයන්          195 non-null    object \n",
            " 17  හන්දි වර්ග                  194 non-null    object \n",
            " 18  මාර්ග_මතුපිට_තත්වය          195 non-null    object \n",
            " 19  ආලෝක_තත්වය                  195 non-null    object \n",
            " 20  කාලගුණ_තත්වය                195 non-null    object \n",
            " 21  ගැටීමේ_වර්ගය                195 non-null    object \n",
            " 22  ගැටීම තත්වය                 195 non-null    object \n",
            " 23  වාහන_චලනය                   195 non-null    object \n",
            " 24  සම්බන්ධ වූ_වාහන_සංඛ්‍යාව    195 non-null    float64\n",
            " 25  තුවාල ලැබූ පුද්ගලයින් ගණන   194 non-null    object \n",
            " 26  ඝාතනය වූ පුද්ගලයන් ගණන      194 non-null    object \n",
            " 27  අනතුරු_පංතිය                195 non-null    object \n",
            " 28  පෙර කඩා වැටීමේ සාධක         195 non-null    object \n",
            " 29  අනතුර_හේතුව                 195 non-null    object \n",
            " 30  පදික_චලනය                   195 non-null    object \n",
            "dtypes: float64(3), int64(1), object(27)\n",
            "memory usage: 47.4+ KB\n",
            "None\n"
          ]
        }
      ]
    },
    {
      "cell_type": "markdown",
      "source": [
        "duplicates"
      ],
      "metadata": {
        "id": "NCHoqJTCGu2h"
      }
    },
    {
      "cell_type": "code",
      "source": [
        "#check for duplicates\n",
        "duplicates = data[data.duplicated()]\n",
        "print(duplicates)"
      ],
      "metadata": {
        "colab": {
          "base_uri": "https://localhost:8080/"
        },
        "id": "NmfkwRyrdlum",
        "outputId": "c87384b5-c359-4211-ec2b-084991616650"
      },
      "execution_count": 12,
      "outputs": [
        {
          "output_type": "stream",
          "name": "stdout",
          "text": [
            "Empty DataFrame\n",
            "Columns: [අනතුරු දර්ශකය, දිනය, සතියේ දිනය , වෙලාව, අනතුරේ බරපතලකම , රියදුරුගේ වයස      , රියදුරුගේ ලිංගිකත්වය , මත්පැන් පරිභෝජනය , හිස්වැසුම් භාවිතය , රිය බලපත්ර , රිය පැදවීමේ පළපුරුද්ද , වාහන වර්ගය , වාහන රියදුරු සම්බන්ධය , වාහනයේ සේවා_වසර, වාහන වයස සහ නඩත්තුව, අනතුර_සිදු වූ ප්‍රදේශ , මංතීරු_හෝ_මධ්‍යයන් , හන්දි වර්ග , මාර්ග_මතුපිට_තත්වය , ආලෝක_තත්වය , කාලගුණ_තත්වය , ගැටීමේ_වර්ගය , ගැටීම තත්වය, වාහන_චලනය, සම්බන්ධ වූ_වාහන_සංඛ්‍යාව, තුවාල ලැබූ පුද්ගලයින් ගණන , ඝාතනය වූ පුද්ගලයන් ගණන , අනතුරු_පංතිය , පෙර කඩා වැටීමේ සාධක , අනතුර_හේතුව, පදික_චලනය]\n",
            "Index: []\n",
            "\n",
            "[0 rows x 31 columns]\n"
          ]
        }
      ]
    },
    {
      "cell_type": "markdown",
      "source": [
        "Handling Missing Values"
      ],
      "metadata": {
        "id": "jw0Q_C8udwNc"
      }
    },
    {
      "cell_type": "code",
      "source": [
        "#finding missing values\n",
        "missing_values_count = data.isnull().sum()\n",
        "total_missing = data.isnull().sum().sum()\n",
        "missing_percentage = (data.isnull().mean()) * 100\n",
        "\n",
        "print(\"Missing Values Count Per Column:\")\n",
        "print(missing_values_count)\n",
        "print(\"\\nTotal Missing Values in Dataset:\")\n",
        "print(total_missing)\n",
        "print(\"\\nPercentage of Missing Values Per Column:\")\n",
        "print(missing_percentage)"
      ],
      "metadata": {
        "colab": {
          "base_uri": "https://localhost:8080/"
        },
        "id": "ZvpT1LXodzw7",
        "outputId": "b23f062a-b54a-463d-d152-735404dfd134"
      },
      "execution_count": 13,
      "outputs": [
        {
          "output_type": "stream",
          "name": "stdout",
          "text": [
            "Missing Values Count Per Column:\n",
            "අනතුරු දර්ශකය                 0\n",
            "දිනය                          0\n",
            "සතියේ දිනය                    0\n",
            "වෙලාව                         0\n",
            "අනතුරේ බරපතලකම                0\n",
            "රියදුරුගේ වයස                 0\n",
            "රියදුරුගේ ලිංගිකත්වය          0\n",
            "මත්පැන් පරිභෝජනය              0\n",
            "හිස්වැසුම් භාවිතය             0\n",
            "රිය බලපත්ර                    0\n",
            "රිය පැදවීමේ පළපුරුද්ද         1\n",
            "වාහන වර්ගය                    0\n",
            "වාහන රියදුරු සම්බන්ධය         0\n",
            "වාහනයේ සේවා_වසර               1\n",
            "වාහන වයස සහ නඩත්තුව           0\n",
            "අනතුර_සිදු වූ ප්‍රදේශ         0\n",
            "මංතීරු_හෝ_මධ්‍යයන්            0\n",
            "හන්දි වර්ග                    1\n",
            "මාර්ග_මතුපිට_තත්වය            0\n",
            "ආලෝක_තත්වය                    0\n",
            "කාලගුණ_තත්වය                  0\n",
            "ගැටීමේ_වර්ගය                  0\n",
            "ගැටීම තත්වය                   0\n",
            "වාහන_චලනය                     0\n",
            "සම්බන්ධ වූ_වාහන_සංඛ්‍යාව      0\n",
            "තුවාල ලැබූ පුද්ගලයින් ගණන     1\n",
            "ඝාතනය වූ පුද්ගලයන් ගණන        1\n",
            "අනතුරු_පංතිය                  0\n",
            "පෙර කඩා වැටීමේ සාධක           0\n",
            "අනතුර_හේතුව                   0\n",
            "පදික_චලනය                     0\n",
            "dtype: int64\n",
            "\n",
            "Total Missing Values in Dataset:\n",
            "5\n",
            "\n",
            "Percentage of Missing Values Per Column:\n",
            "අනතුරු දර්ශකය                 0.000000\n",
            "දිනය                          0.000000\n",
            "සතියේ දිනය                    0.000000\n",
            "වෙලාව                         0.000000\n",
            "අනතුරේ බරපතලකම                0.000000\n",
            "රියදුරුගේ වයස                 0.000000\n",
            "රියදුරුගේ ලිංගිකත්වය          0.000000\n",
            "මත්පැන් පරිභෝජනය              0.000000\n",
            "හිස්වැසුම් භාවිතය             0.000000\n",
            "රිය බලපත්ර                    0.000000\n",
            "රිය පැදවීමේ පළපුරුද්ද         0.512821\n",
            "වාහන වර්ගය                    0.000000\n",
            "වාහන රියදුරු සම්බන්ධය         0.000000\n",
            "වාහනයේ සේවා_වසර               0.512821\n",
            "වාහන වයස සහ නඩත්තුව           0.000000\n",
            "අනතුර_සිදු වූ ප්‍රදේශ         0.000000\n",
            "මංතීරු_හෝ_මධ්‍යයන්            0.000000\n",
            "හන්දි වර්ග                    0.512821\n",
            "මාර්ග_මතුපිට_තත්වය            0.000000\n",
            "ආලෝක_තත්වය                    0.000000\n",
            "කාලගුණ_තත්වය                  0.000000\n",
            "ගැටීමේ_වර්ගය                  0.000000\n",
            "ගැටීම තත්වය                   0.000000\n",
            "වාහන_චලනය                     0.000000\n",
            "සම්බන්ධ වූ_වාහන_සංඛ්‍යාව      0.000000\n",
            "තුවාල ලැබූ පුද්ගලයින් ගණන     0.512821\n",
            "ඝාතනය වූ පුද්ගලයන් ගණන        0.512821\n",
            "අනතුරු_පංතිය                  0.000000\n",
            "පෙර කඩා වැටීමේ සාධක           0.000000\n",
            "අනතුර_හේතුව                   0.000000\n",
            "පදික_චලනය                     0.000000\n",
            "dtype: float64\n"
          ]
        }
      ]
    },
    {
      "cell_type": "markdown",
      "source": [
        "mapping"
      ],
      "metadata": {
        "id": "aI3gNnmGe6Tf"
      }
    },
    {
      "cell_type": "code",
      "source": [
        "# Dictionary for Sinhala to English conversion\n",
        "sinhala_to_english = {\n",
        "    'අනතුරු දර්ශකය': 'Accident_index',\n",
        "    'දිනය': 'Date',\n",
        "    'සතියේ දිනය ': 'Day_of_week',\n",
        "    'වෙලාව': 'Time',\n",
        "    'අනතුරේ බරපතලකම ': 'Accident_severity',\n",
        "    'රියදුරුගේ වයස      ': 'Age_of_driver',\n",
        "    'රියදුරුගේ ලිංගිකත්වය ': 'Sex_of_driver',\n",
        "    'මත්පැන් පරිභෝජනය ': 'Consumption',\n",
        "    'හිස්වැසුම් භාවිතය ': 'Helmet_Usage',\n",
        "    'රිය බලපත්ර ': 'Licensing_and_enforcement',\n",
        "    'රිය පැදවීමේ පළපුරුද්ද ': 'Driving_experience',\n",
        "    'වාහන වර්ගය ': 'Type_of_vehicle',\n",
        "    'වාහන රියදුරු සම්බන්ධය ': 'Vehical_driver_relation',\n",
        "    'වාහනයේ සේවා_වසර': 'Service_year_of_vehicle',\n",
        "    'වාහන වයස සහ නඩත්තුව': 'Vehicle_Age_and_Maintenance',\n",
        "    'අනතුර_සිදු වූ ප්\\u200dරදේශ ': 'Area_accident_occured',\n",
        "    'මංතීරු_හෝ_මධ්\\u200dයයන් ': 'Lanes_or_Medians',\n",
        "    'හන්දි වර්ග ': 'Types_of_Junction',\n",
        "    'මාර්ග_මතුපිට_තත්වය ': 'Road_surface_conditions',\n",
        "    'ආලෝක_තත්වය ': 'Light_condition',\n",
        "    'කාලගුණ_තත්වය ': 'Weather_condition',\n",
        "    'ගැටීමේ_වර්ගය ': 'Type_of_collision',\n",
        "    'ගැටීම තත්වය': 'Head_On_collision',\n",
        "    'වාහන_චලනය': 'Vehicle_movement',\n",
        "    'සම්බන්ධ වූ_වාහන_සංඛ්\\u200dයාව': 'Number_of_vehicles_involved',\n",
        "    'තුවාල ලැබූ පුද්ගලයින් ගණන ': 'Number_of_persons_injured',\n",
        "    'ඝාතනය වූ පුද්ගලයන් ගණන ': 'Number_of_persons_killed ',\n",
        "    'අනතුරු_පංතිය ': 'Casualty_class',\n",
        "    'පෙර කඩා වැටීමේ සාධක ': 'Pre_crash_factors ',\n",
        "    'අනතුර_හේතුව': 'Cause_of_accident',\n",
        "    'පදික_චලනය': 'Pedestrian_movement'\n",
        "}\n",
        "\n",
        "# Rename columns in the DataFrame\n",
        "data.rename(columns=sinhala_to_english, inplace=True)"
      ],
      "metadata": {
        "id": "hzXLJ-S-k3it"
      },
      "execution_count": 14,
      "outputs": []
    },
    {
      "cell_type": "code",
      "source": [
        "print(data.info())"
      ],
      "metadata": {
        "colab": {
          "base_uri": "https://localhost:8080/"
        },
        "id": "3DoDc33-nj_n",
        "outputId": "99d98bb0-86af-40e3-bd95-5ceff5ea22fe"
      },
      "execution_count": 15,
      "outputs": [
        {
          "output_type": "stream",
          "name": "stdout",
          "text": [
            "<class 'pandas.core.frame.DataFrame'>\n",
            "RangeIndex: 195 entries, 0 to 194\n",
            "Data columns (total 31 columns):\n",
            " #   Column                       Non-Null Count  Dtype  \n",
            "---  ------                       --------------  -----  \n",
            " 0   Accident_index               195 non-null    float64\n",
            " 1   Date                         195 non-null    object \n",
            " 2   Day_of_week                  195 non-null    object \n",
            " 3   Time                         195 non-null    object \n",
            " 4   Accident_severity            195 non-null    object \n",
            " 5   Age_of_driver                195 non-null    int64  \n",
            " 6   Sex_of_driver                195 non-null    object \n",
            " 7   Consumption                  195 non-null    object \n",
            " 8   Helmet_Usage                 195 non-null    object \n",
            " 9   Licensing_and_enforcement    195 non-null    object \n",
            " 10  Driving_experience           194 non-null    object \n",
            " 11  Type_of_vehicle              195 non-null    object \n",
            " 12  Vehical_driver_relation      195 non-null    object \n",
            " 13  Service_year_of_vehicle      194 non-null    float64\n",
            " 14  Vehicle_Age_and_Maintenance  195 non-null    object \n",
            " 15  Area_accident_occured        195 non-null    object \n",
            " 16  Lanes_or_Medians             195 non-null    object \n",
            " 17  Types_of_Junction            194 non-null    object \n",
            " 18  Road_surface_conditions      195 non-null    object \n",
            " 19  Light_condition              195 non-null    object \n",
            " 20  Weather_condition            195 non-null    object \n",
            " 21  Type_of_collision            195 non-null    object \n",
            " 22  Head_On_collision            195 non-null    object \n",
            " 23  Vehicle_movement             195 non-null    object \n",
            " 24  Number_of_vehicles_involved  195 non-null    float64\n",
            " 25  Number_of_persons_injured    194 non-null    object \n",
            " 26  Number_of_persons_killed     194 non-null    object \n",
            " 27  Casualty_class               195 non-null    object \n",
            " 28  Pre_crash_factors            195 non-null    object \n",
            " 29  Cause_of_accident            195 non-null    object \n",
            " 30  Pedestrian_movement          195 non-null    object \n",
            "dtypes: float64(3), int64(1), object(27)\n",
            "memory usage: 47.4+ KB\n",
            "None\n"
          ]
        }
      ]
    },
    {
      "cell_type": "code",
      "source": [
        "numerical_data = data.select_dtypes(include=['number'])\n",
        "numerical_cols = numerical_data.columns.tolist()\n",
        "categorical_data = data.select_dtypes(exclude=['number'])\n",
        "categorical_cols = categorical_data.columns.tolist()\n",
        "\n",
        "print(\"Numerical Columns:\", numerical_cols)\n",
        "print(\"Categorical Columns:\", categorical_cols)"
      ],
      "metadata": {
        "colab": {
          "base_uri": "https://localhost:8080/"
        },
        "id": "oJFI5Bv592xe",
        "outputId": "e8311839-5c64-4e26-96a0-0f4939021159"
      },
      "execution_count": 16,
      "outputs": [
        {
          "output_type": "stream",
          "name": "stdout",
          "text": [
            "Numerical Columns: ['Accident_index', 'Age_of_driver', 'Service_year_of_vehicle', 'Number_of_vehicles_involved']\n",
            "Categorical Columns: ['Date', 'Day_of_week', 'Time', 'Accident_severity', 'Sex_of_driver', 'Consumption', 'Helmet_Usage', 'Licensing_and_enforcement', 'Driving_experience', 'Type_of_vehicle', 'Vehical_driver_relation', 'Vehicle_Age_and_Maintenance', 'Area_accident_occured', 'Lanes_or_Medians', 'Types_of_Junction', 'Road_surface_conditions', 'Light_condition', 'Weather_condition', 'Type_of_collision', 'Head_On_collision', 'Vehicle_movement', 'Number_of_persons_injured', 'Number_of_persons_killed ', 'Casualty_class', 'Pre_crash_factors ', 'Cause_of_accident', 'Pedestrian_movement']\n"
          ]
        }
      ]
    },
    {
      "cell_type": "code",
      "source": [
        "# Display unique values for all columns\n",
        "for column in numerical_cols + categorical_cols:\n",
        "    if column in data.columns:\n",
        "        # Check if the selected data is a Series\n",
        "        if isinstance(data[column], pd.Series):\n",
        "            print(f\"Unique values for '{column}': {data[column].unique()}\\n\")\n",
        "        else:\n",
        "            print(f\"Skipping '{column}' as it's not a Series.\\n\")\n",
        "    else:\n",
        "        print(f\"Column '{column}' not found in the dataset.\\n\")"
      ],
      "metadata": {
        "colab": {
          "base_uri": "https://localhost:8080/"
        },
        "id": "TE-3nldijgqz",
        "outputId": "ddfaff7e-2305-4c07-80fa-12de7d09e089"
      },
      "execution_count": 17,
      "outputs": [
        {
          "output_type": "stream",
          "name": "stdout",
          "text": [
            "Unique values for 'Accident_index': [  1.   2.   3.   4.   5.   6.   7.   8.   9.  10.  11.  12.  13.  14.\n",
            "  15.  16.  17.  18.  19.  20.  21.  22.  23.  24.  25.  26.  27.  28.\n",
            "  29.  30.  31.  32.  33.  34.  35.  36.  37.  38.  39.  40.  41.  42.\n",
            "  43.  44.  45.  46.  47.  48.  49.  50.  51.  52.  53.  54.  55.  56.\n",
            "  57.  58.  59.  60.  61.  62.  63.  64.  65.  66.  67.  68.  69.  70.\n",
            "  71.  72.  73.  74.  75.  76.  77.  78.  79.  80.  81.  82.  83.  84.\n",
            "  85.  86.  87.  88.  89.  90.  91.  92.  93.  94.  95.  96.  97.  98.\n",
            "  99. 100.]\n",
            "\n",
            "Unique values for 'Age_of_driver': [41 46 18 30 24 25 20 53 31 43 48 44 23 47 35 29 45 55 39 32 26 28 27 21\n",
            " 67 36 19 54 59 42 69 38 52 49 34 56 22 37 40 57 51 16 75 62 33 15 58 64\n",
            " 70 60]\n",
            "\n",
            "Unique values for 'Service_year_of_vehicle': [2015. 2016. 2018. 2008. 2010. 2007. 1992. 2012. 2019. 2020. 2017. 1988.\n",
            " 2009. 2000. 2005. 1990. 1993. 2013. 2014. 2011. 1998. 2006. 1978. 1997.\n",
            " 1994. 1996. 1970.   nan]\n",
            "\n",
            "Unique values for 'Number_of_vehicles_involved': [3. 2. 1.]\n",
            "\n",
            "Unique values for 'Date': [\"2022'01'01\" '2022.01.01 ' '2022.01.03' '2022.01.09 ' '2022.01.12'\n",
            " '2022.01.13' '2022.01.17' '2022.01.22 ' '2022.01.23' '2022.01.24'\n",
            " '2022.01.25' '2022.01.30' \"2022'01'31\" '2022.02.04' '2022.02.11'\n",
            " '2022.02.15' '2022.02.22' '2022.02.23' '2022.02.24' '2022.02.25'\n",
            " '2022.02.27' '2022.03.06' '2022.03.25' '2022.03.07' '2022.03.13'\n",
            " '2022.03.14' '2022.03.20' '2022.03.21' '2022.03.23' '2022.03.29'\n",
            " '2022.03.26' '2022.03.31' '2022.04.02' '2022.04.08' '2022.04.11'\n",
            " '2022.04.10' '2022.04.19' '2022.05.02' '2022.05.05' '2022.05.6'\n",
            " '2022.05.06' '2022.05.15' '2022.05.29' '2022.06.05' '2022.06.06'\n",
            " '2022.06.02' '2022.06.03' '2022.06.02.' '2022.06.16' '2022.06.15'\n",
            " '2022.06.20' '2022.06.25' '2022.06.29' '2022.08.01' '2022.08.06'\n",
            " '2022.08.08' '2022.08.10' '2022.08.16' '2022.08.17' '2022.08.18'\n",
            " '2022.08.20' '2022.08.26' '2022.08.29' '2022.08.30' '2022.09.03'\n",
            " '2022.09.05' '2022.09.12' '2022.09.21' '2022.09.23' '2022.10.04'\n",
            " '2022.10.10' '2022.10.12' '2022.10.25' '2022.11.12' '2022.11.15'\n",
            " '2022.11.22' '2022.11.25' '2022.11.28' '2022.12.01' '2022.12.05'\n",
            " '2022.12.11' '2022.12.12' '2022.12.17' '2022.12.22' '2022.12.29'\n",
            " '2022.12.30' '2023.01.01' '2023.01.11' '2023.01.13' '2023.01.15'\n",
            " '2023.01.16' '2023.02.01' '2023.02.4' '2023.02.05' '2023.02.13'\n",
            " '2023.02.18' '2023.02.17' '2023.02.19' '2023.02.22' '2023.02.25'\n",
            " '2023.03.02' '2023.03.03' '2023.03.05' '2023.03.07' '2023.03.10'\n",
            " '2023.03.11' '2023.03.13' '2023.03.14' '2023.03.15' '2023.03.24'\n",
            " '2023.03.27' '2023.04.02' '2023.04.09' '2023.04.13' '2023.04.15'\n",
            " '2023.04.16' '2023.04.21' '2023.04.30' '2023.05.08' '2023.05.18'\n",
            " '2023.05.22' '2023.05.23' '2023.05.21' '2023.05.29' '2023.05.31'\n",
            " '2023.06.01' '2023.06.03' '2023.06.12' '2023.06.14' '2023.06.21'\n",
            " '2023.06.23' '2023.06.28' '2023.06.29.' '2023.06.29' '2023.06.30'\n",
            " '2023.07.04' '2023.07.13' '2023.07.16' '2023.07.22' '2023.07.25'\n",
            " '2023.08.01' '2023.08.07' '2023.08.08' '2023.08.22' '2023.08.25'\n",
            " '2023.09.03' '2023.09.08' '2023.09.14' '2023.09.22' '2023.09.26'\n",
            " '2023.09.27' '2023.09.28' '2023.09.30' '2023.10.08.' '2023.10.13'\n",
            " '2023.10.14' '2023.10.22' '2023.10.23' '2023.10.28' '2023.11.05'\n",
            " '2023.11.09' '2023.11.06' '2023.11.14' '2023.11.18' '2023.11.25'\n",
            " '2023.11.27' '2023.11.29' '2023.12.06' '2023.12.11' '2023.12.25'\n",
            " '2023.12.28']\n",
            "\n",
            "Unique values for 'Day_of_week': ['සෙනසුරාදා' 'සදුදා' 'ඉරිදා' 'බ්\\u200dරහස්පතින්දා' 'අගරුවාදා' 'සිකුරාදා'\n",
            " ' බදාදා']\n",
            "\n",
            "Unique values for 'Time': [600 1210 1720 1710 1530 620 1630 2315 2339 2210 1815 1610 1230 2045 1745\n",
            " 1830 1619 1750 1455 1430 1620 1300 1400 2330 420 745 2130 450 350 30 1050\n",
            " 1715 100 1730 1700 1100 1925 1330 1445 1850 1945 1930 2000 1900 800 1025\n",
            " 400 141 '18/10' '13/30' '20/05' '18/45' '19/10' '21/45' '17/30'\n",
            " datetime.datetime(1901, 6, 28, 0, 0) 1820 1615 520 1200 2015 1345 1605\n",
            " 1805 2105 2010 1420 2040 1335 1650 1225 2400 1130 2050 2020 510 1145 1840\n",
            " 1415 '00/40' datetime.datetime(2012, 7, 10, 0, 0)\n",
            " datetime.datetime(2000, 8, 1, 0, 0) 1520 1000 1940 1525 2030 1755 2215\n",
            " 1800 1350 942 1510 730 200 345 1600 1845 120 640 810 1015 715 1950 2150\n",
            " 1935 1410 930 1030 2230 2335 820 1910 2310 700 1135 1543 1020 1810 1855\n",
            " 1435 2115 1245 2250 515 215 1500 1645]\n",
            "\n",
            "Unique values for 'Accident_severity': ['බරපතල' 'සුළු තුවාල' 'බරපතල ' 'මාරක' 'බරපතලතුවාල' 'බරපතල තුවාල' ' අලාබ'\n",
            " 'අලාබ']\n",
            "\n",
            "Unique values for 'Sex_of_driver': ['පුරුෂ']\n",
            "\n",
            "Unique values for 'Consumption': ['නැත' 'ඇත']\n",
            "\n",
            "Unique values for 'Helmet_Usage': ['නැත' 'ඇත']\n",
            "\n",
            "Unique values for 'Licensing_and_enforcement': ['ඇත' 'නැත']\n",
            "\n",
            "Unique values for 'Driving_experience': ['2-5 අතර' nan '2.-.5 අතර' '01-06 අතර' '01-20 අතර' '01-10 අතර' '2-7 අතර'\n",
            " '10-15 අතර' '10-20 අතර' '2-10 අතර' '2-8 අතර' '1-3 අතර' '5-20 අතර'\n",
            " '1 පමණි' '1යි' '4යි' '2යි' 'මාස 3' 'නැත' '5-30 අතර']\n",
            "\n",
            "Unique values for 'Type_of_vehicle': ['ලොරි' 'ත්\\u200dරිවිල්' 'ය/පැ' 'කාර්' 'ටිපර්' 'වැන්' 'වෑන්' 'කැබ්'\n",
            " 'යැ/පැ' 'බස්' 'බට්ටා ලොරි' 'බව්සර්' 'කන්ටේනර්' 'ඩිමේ බට්ටා ලොරි'\n",
            " 'සැ/ ලොරි']\n",
            "\n",
            "Unique values for 'Vehical_driver_relation': ['සේවකයා' 'හිමිකරු' 'හිමිකරුගේ දරුවා']\n",
            "\n",
            "Unique values for 'Vehicle_Age_and_Maintenance': ['7 හොදයි' '8,හොදයි' '07,හොදයි' '4,හොදයි' '14,හොදයි' '12,හොදයි' '15,හොදයි'\n",
            " '30,නොදනි' '04,හොදයි' '12 ,සාමාන්\\u200dය' '03 ,හොදයි' '06 හොදයි'\n",
            " '14 හොදයි' '05 හොදයි' '08 හොදයි' '36 සාමාණ්\\u200dයයි'\n",
            " '15 සාමාන්\\u200dයයි' '24 සාමාන්\\u200dයයි' '16 සාමාන්\\u200dයයි' '36 නොදනී'\n",
            " '19 හොදයි' '34 නොදනී' '09 හොදයි' '31 නොදනී' '11 සාමාන්\\u200dයයි'\n",
            " '14 සාමාන්\\u200dයයි' '19 සාමාන්\\u200dයයි' '10 හොදයි' '13 සාමාන්\\u200dයයි'\n",
            " '26 නොදනී' '12 හොදයි' '18 සාමාන්\\u200dයයි' '15 හොදයි' '46 නොදනී'\n",
            " '17 සාමාන්\\u200dයයි' '27 නොදනි' '30 නොදනී' '13 හොදයි' '04 හොදයි'\n",
            " '12 සාමාන්\\u200dය' '24 නොදනි' '28 නොදනී' '24 නෙදනි' '54 නොදනි']\n",
            "\n",
            "Unique values for 'Area_accident_occured': ['ඉපලව' 'දරමිටිපොල ' 'ගොඩගම' 'ගොකරැල්ල' 'යකල්ල' '15 කණුව' 'මැද්දෙකැටිය'\n",
            " 'ඉබ්බාගමුව' 'පන්නල' 'රත්විට' '13 කණුව' 'කරදගොල්ල හන්දිය'\n",
            " 'දැදුරුඔය පාලම අසල' 'කුඩාඹය පාලම අසල' 'මි වැව දේවාලය අසල' 'පාන්ගොල්ල '\n",
            " 'නාමල්ලංග' 'තල්ගොඩපිටිය' 'පොල්ගොල්ල' 'දෙහෙල්ගමුව' 'වල්පොල පාර' 'අඹන්පොල'\n",
            " 'පැලකුබුර' 'බක්මීගොල්ල' 'බලවත්තල' 'උඩවෙල' 'රණවිරුගම පාර' 'කරදගොල්ල '\n",
            " 'ගොපල්ලව පාර' 'මඩගල්ල පාර' 'සියබලා වැහැර' 'බතලගොඩ වැව පාර' '15 කනුව'\n",
            " 'කලුගමුව' 'මුදුන්දුව' 'කිබුල්වානා වැව පාර' 'වල්පොල' 'උඩතම්මිට' 'කරව්වැව']\n",
            "\n",
            "Unique values for 'Lanes_or_Medians': ['මාර්ග සලකුණු සහිතව බෙදා ඇත' ' එම' 'නැත' 'මාර්ග සකුනු සහිතබෙදා ඇත' 'එම'\n",
            " 'මාර්ගසලකුණු සහිතව බෙදා ඇත.' 'මාර්ග සලකුනු සහිත බෙදා ඇත']\n",
            "\n",
            "Unique values for 'Types_of_Junction': ['නැත' nan ' නැත' 'ඇත']\n",
            "\n",
            "Unique values for 'Road_surface_conditions': ['වියලි' 'තෙත්' 'වර්සාව']\n",
            "\n",
            "Unique values for 'Light_condition': ['දිවා ආලෝකය' 'දිවා ආලොක්ය' 'දිවා ආලේකය' 'දිවා ආලොෝකය' 'විදි ආලේකය නැත'\n",
            " 'විධි ආලෝකය ඇත']\n",
            "\n",
            "Unique values for 'Weather_condition': ['නොදන්නා' 'නොදනි' 'වැසි']\n",
            "\n",
            "Unique values for 'Type_of_collision': ['වාහන' 'පෙරලිමෙන්' 'පදිකයින්' 'පදකයා' 'මගියා' 'පදික කාන්තාව' 'පා පැදි'\n",
            " 'පදිකයා']\n",
            "\n",
            "Unique values for 'Head_On_collision': ['පිටුපස ගැටිම' 'දකුනට බරව' 'මුහුණට මුහුණ' '         දකුණට බරව'\n",
            " 'දකුණට බරව' 'හැරවිමට යාමේදි' 'පෙරලිමෙන්' 'හැරවිමේදි' 'පසුපස ගැටිම'\n",
            " 'මාර්ගයෙන් ඉවතට ගොස්' 'දකුණු පසට හැරවීමේදී' 'පා පුවරුවේ ගමන්ගත්']\n",
            "\n",
            "Unique values for 'Vehicle_movement': ['කෙලින්' 'කෙලි න් ' 'කෙලින් ' 'වංගු සහිත' 'දකුණට බරව' 'වමට බරව']\n",
            "\n",
            "Unique values for 'Number_of_persons_injured': [2 1 nan 'නැත' 3 6 ' නැත' 14]\n",
            "\n",
            "Unique values for 'Number_of_persons_killed ': [nan 'නැත' 1 'ඇත']\n",
            "\n",
            "Unique values for 'Casualty_class': ['රියදුරු,මගියා' 'රියදුරු,' 'පැදිකරු' 'මගින්' 'පැදිකරු,මගියා'\n",
            " 'පැදිකරු/පසුපැදිකරු' 'රියදුරු' 'පැදකරු' 'පදිකයා' 'යතුරුපැදිකරු' 'ය/පැකරු'\n",
            " 'වාහන අලාභ' 'රියදුරු සහ මගීන්' 'මගියා' 'පදිකයින්' 'රිය සහයකයා'\n",
            " 'රියදුරු/මගියා' 'ත්\\u200dරිවීල් පැදිකරු' 'මගීන්' 'පාපැදිකරු' 'පැදිකරුවන්'\n",
            " 'රියදුරු /මගියා/රිය සහයක' 'ය/පැදිකරු' 'පදික කාන්තාව' 'අලාභ' 'පා/පැදිකරු'\n",
            " 'රියසහයක' 'පසුපැදිකරු' 'නැත' 'ඇත']\n",
            "\n",
            "Unique values for 'Pre_crash_factors ': ['නොදනි' 'නොදන්නා']\n",
            "\n",
            "Unique values for 'Cause_of_accident': ['නොසැලිකිලිමත්කම' 'නොසැලිකිලිමත් කම' 'නොසැලිකිලමත්කම' 'නොසැලකිලිමත් '\n",
            " 'නොසැලිකිලිමත්']\n",
            "\n",
            "Unique values for 'Pedestrian_movement': ['පදිකයෙක්නොවේ' 'පදිකයෙක් නොවේ' 'පදිකයෙක් නොවේ.' 'පදිකායක් නොවේ.'\n",
            " 'පදකයෙක්නොවේ' 'වෙනත්' 'පද්කයෙක් නොවේ' 'පදිකයෙක්' 'පදිකයින්'\n",
            " 'පදික කාන්තාව']\n",
            "\n"
          ]
        }
      ]
    },
    {
      "cell_type": "code",
      "source": [
        "# Mapping dictionary\n",
        "sinhala_to_english_map = {\n",
        "    'ඇත': 'Yes',\n",
        "    'නැත': 'No',\n",
        "    ' නැත':'No'\n",
        "}\n",
        "\n",
        "# Apply the mapping to the desired columns\n",
        "columns_to_map = ['Helmet_Usage', 'Consumption','Licensing_and_enforcement','Types_of_Junction']\n",
        "\n",
        "for column in columns_to_map:\n",
        "    if column in data.columns:\n",
        "        data[column] = data[column].map(sinhala_to_english_map)"
      ],
      "metadata": {
        "id": "e1oTRTeJMscG"
      },
      "execution_count": 18,
      "outputs": []
    },
    {
      "cell_type": "code",
      "source": [
        "for column in columns_to_map:\n",
        "    if column in data.columns:\n",
        "        print(f\"Unique values for '{column}': {data[column].unique()}\\n\")\n",
        "    else:\n",
        "        print(f\"Column '{column}' not found in the dataset.\\n\")"
      ],
      "metadata": {
        "colab": {
          "base_uri": "https://localhost:8080/"
        },
        "id": "44ARA65-N-0-",
        "outputId": "64717a90-8931-4496-daef-c3680bf19952"
      },
      "execution_count": 19,
      "outputs": [
        {
          "output_type": "stream",
          "name": "stdout",
          "text": [
            "Unique values for 'Helmet_Usage': ['No' 'Yes']\n",
            "\n",
            "Unique values for 'Consumption': ['No' 'Yes']\n",
            "\n",
            "Unique values for 'Licensing_and_enforcement': ['Yes' 'No']\n",
            "\n",
            "Unique values for 'Types_of_Junction': ['No' nan 'Yes']\n",
            "\n"
          ]
        }
      ]
    },
    {
      "cell_type": "code",
      "source": [
        "category_mapping_Day_of_week = {\n",
        "    'සෙනසුරාදා': 'Saturday',\n",
        "    'සදුදා' : 'Monday',\n",
        "    'ඉරිදා': 'Sunday',\n",
        "    'බ්\\u200dරහස්පතින්දා': 'wednesday',\n",
        "    'අගරුවාදා': 'Tuesday',\n",
        "    'සිකුරාදා':'Friday',\n",
        "    ' බදාදා':'Wednesday'\n",
        "}\n",
        "\n",
        "# Map values in 'Day of week' column to the specified categories\n",
        "data['Day_of_week'] = data['Day_of_week'].map(category_mapping_Day_of_week)"
      ],
      "metadata": {
        "id": "u8mauGOdS4gB"
      },
      "execution_count": 20,
      "outputs": []
    },
    {
      "cell_type": "code",
      "source": [
        "data['Day_of_week'].unique()"
      ],
      "metadata": {
        "colab": {
          "base_uri": "https://localhost:8080/"
        },
        "id": "l-0h3KOvT0LE",
        "outputId": "f0c521b2-b6dc-42da-f09f-8c436f26ea56"
      },
      "execution_count": 21,
      "outputs": [
        {
          "output_type": "execute_result",
          "data": {
            "text/plain": [
              "array(['Saturday', 'Monday', 'Sunday', 'wednesday', 'Tuesday', 'Friday',\n",
              "       'Wednesday'], dtype=object)"
            ]
          },
          "metadata": {},
          "execution_count": 21
        }
      ]
    },
    {
      "cell_type": "code",
      "source": [
        "category_mapping_Cause_of_accident = {\n",
        "    'නොසැලිකිලිමත්කම':'negligence',\n",
        "    'නොසැලිකිලිමත් කම':'negligence',\n",
        "    'නොසැලිකිලමත්කම':'negligence',\n",
        "    'නොසැලකිලිමත් ':'negligence',\n",
        "    'නොසැලිකිලිමත්':'negligence'\n",
        "}\n",
        "\n",
        "# Map values in 'Cause_of_accident' column to the specified categories\n",
        "data['Cause_of_accident'] = data['Cause_of_accident'].map(category_mapping_Cause_of_accident)"
      ],
      "metadata": {
        "id": "qt72ndTrTyZk"
      },
      "execution_count": 22,
      "outputs": []
    },
    {
      "cell_type": "code",
      "source": [
        "data['Cause_of_accident'].unique()"
      ],
      "metadata": {
        "colab": {
          "base_uri": "https://localhost:8080/"
        },
        "id": "4j1CEl1RUzmO",
        "outputId": "cd1da65c-3a16-48ef-df94-ed6651a9df6f"
      },
      "execution_count": 23,
      "outputs": [
        {
          "output_type": "execute_result",
          "data": {
            "text/plain": [
              "array(['negligence'], dtype=object)"
            ]
          },
          "metadata": {},
          "execution_count": 23
        }
      ]
    },
    {
      "cell_type": "code",
      "source": [
        "category_mapping_Pedestrian_movement = {\n",
        "    'පදිකයෙක්නොවේ':'Not a pedestrian',\n",
        "    'පදිකයෙක් නොවේ':'Not a pedestrian',\n",
        "    'පදිකයෙක් නොවේ.':'Not a pedestrian',\n",
        "    'පදිකායක් නොවේ.':'Not a pedestrian',\n",
        "    'පදකයෙක්නොවේ':'Not a pedestrian',\n",
        "    'වෙනත්' :'other',\n",
        "    'පද්කයෙක් නොවේ':'Not a pedestrian',\n",
        "    'පදිකයෙක්':'a pedestrian',\n",
        "    'පදිකයින්':'a pedestrian',\n",
        "    'පදික කාන්තාව':'woman'\n",
        "}\n",
        "\n",
        "# Map values in 'Pedestrian_movement' column to the specified categories\n",
        "data['Pedestrian_movement'] = data['Pedestrian_movement'].map(category_mapping_Pedestrian_movement)"
      ],
      "metadata": {
        "id": "55BjsoAjUnk8"
      },
      "execution_count": 24,
      "outputs": []
    },
    {
      "cell_type": "code",
      "source": [
        "data['Pedestrian_movement'].unique()"
      ],
      "metadata": {
        "colab": {
          "base_uri": "https://localhost:8080/"
        },
        "id": "_hi8JYk3T1hR",
        "outputId": "d43e59b2-c0b9-4d56-adbf-a79f8cf01fe8"
      },
      "execution_count": 25,
      "outputs": [
        {
          "output_type": "execute_result",
          "data": {
            "text/plain": [
              "array(['Not a pedestrian', 'other', 'a pedestrian', 'woman'], dtype=object)"
            ]
          },
          "metadata": {},
          "execution_count": 25
        }
      ]
    },
    {
      "cell_type": "code",
      "source": [
        "category_mapping_Pre_crash_factors = {\n",
        "    'නොදනි':'unknown',\n",
        "    'නොදන්නා':'unknown'\n",
        "}\n",
        "\n",
        "# Map values in 'Pre_crash factors ' column to the specified categories\n",
        "data['Pre_crash_factors '] = data['Pre_crash_factors '].map(category_mapping_Pre_crash_factors)"
      ],
      "metadata": {
        "id": "TKf7VLUvWtpW"
      },
      "execution_count": 26,
      "outputs": []
    },
    {
      "cell_type": "code",
      "source": [
        "data['Pre_crash_factors '].unique()"
      ],
      "metadata": {
        "colab": {
          "base_uri": "https://localhost:8080/"
        },
        "outputId": "c97ae062-9ee7-42e8-97a4-4e781a3bea09",
        "id": "3uHQXkmwWtpZ"
      },
      "execution_count": 27,
      "outputs": [
        {
          "output_type": "execute_result",
          "data": {
            "text/plain": [
              "array(['unknown'], dtype=object)"
            ]
          },
          "metadata": {},
          "execution_count": 27
        }
      ]
    },
    {
      "cell_type": "code",
      "source": [
        "category_mapping_Weather_condition = {\n",
        "    'නොදන්නා':'unknown',\n",
        "    'නොදනි':'unknown',\n",
        "    'වැසි':'rainy'\n",
        "}\n",
        "\n",
        "# Map values in 'Weather_condition' column to the specified categories\n",
        "data['Weather_condition'] = data['Weather_condition'].map(category_mapping_Weather_condition)"
      ],
      "metadata": {
        "id": "_vlBVFN7Zsp6"
      },
      "execution_count": 28,
      "outputs": []
    },
    {
      "cell_type": "code",
      "source": [
        "data['Weather_condition'].unique()"
      ],
      "metadata": {
        "colab": {
          "base_uri": "https://localhost:8080/"
        },
        "outputId": "31cec039-b182-44b8-8000-9e97908df957",
        "id": "LRyJzzsvZsp8"
      },
      "execution_count": 29,
      "outputs": [
        {
          "output_type": "execute_result",
          "data": {
            "text/plain": [
              "array(['unknown', 'rainy'], dtype=object)"
            ]
          },
          "metadata": {},
          "execution_count": 29
        }
      ]
    },
    {
      "cell_type": "code",
      "source": [
        "category_mapping_Light_condition = {\n",
        "    'දිවා ආලෝකය':'Daylight',\n",
        "    'දිවා ආලොක්ය':'Daylight',\n",
        "    'දිවා ආලේකය':'Daylight',\n",
        "    'දිවා ආලොෝකය':'Daylight',\n",
        "    'විදි ආලේකය නැත':'No Street Light',\n",
        "     'විධි ආලෝකය ඇත':'Good Street Light'\n",
        "}\n",
        "\n",
        "# Map values in 'Light_condition' column to the specified categories\n",
        "data['Light_condition'] = data['Light_condition'].map(category_mapping_Light_condition)"
      ],
      "metadata": {
        "id": "uv7B1Hb9asKv"
      },
      "execution_count": 30,
      "outputs": []
    },
    {
      "cell_type": "code",
      "source": [
        "data['Light_condition'].unique()"
      ],
      "metadata": {
        "colab": {
          "base_uri": "https://localhost:8080/"
        },
        "outputId": "2652d7a4-4e17-436e-d2c8-38f07ed86364",
        "id": "FzDOGRYzasKw"
      },
      "execution_count": 31,
      "outputs": [
        {
          "output_type": "execute_result",
          "data": {
            "text/plain": [
              "array(['Daylight', 'No Street Light', 'Good Street Light'], dtype=object)"
            ]
          },
          "metadata": {},
          "execution_count": 31
        }
      ]
    },
    {
      "cell_type": "code",
      "source": [
        "category_mapping_Road_surface_conditions = {\n",
        "    'වියලි':'Dry',\n",
        "    'තෙත්':'Wet',\n",
        "    'වර්සාව':'Flooded with water'\n",
        "}\n",
        "\n",
        "# Map values in 'Road_surface_conditions' column to the specified categories\n",
        "data['Road_surface_conditions'] = data['Road_surface_conditions'].map(category_mapping_Road_surface_conditions)"
      ],
      "metadata": {
        "id": "vY8kFPmLb-yK"
      },
      "execution_count": 32,
      "outputs": []
    },
    {
      "cell_type": "code",
      "source": [
        "data['Road_surface_conditions'].unique()"
      ],
      "metadata": {
        "colab": {
          "base_uri": "https://localhost:8080/"
        },
        "outputId": "d3683768-a073-46b4-ddd8-bfe90e831fa4",
        "id": "9i-hA-hfb-yS"
      },
      "execution_count": 33,
      "outputs": [
        {
          "output_type": "execute_result",
          "data": {
            "text/plain": [
              "array(['Dry', 'Wet', 'Flooded with water'], dtype=object)"
            ]
          },
          "metadata": {},
          "execution_count": 33
        }
      ]
    },
    {
      "cell_type": "code",
      "source": [
        "category_mapping_Sex_of_driver = {\n",
        "    'පුරුෂ':'Male'\n",
        "}\n",
        "\n",
        "# Map values in 'Sex of driver' column to the specified categories\n",
        "data['Sex_of_driver'] = data['Sex_of_driver'].map(category_mapping_Sex_of_driver)"
      ],
      "metadata": {
        "id": "qxn6jXn7dCe_"
      },
      "execution_count": 34,
      "outputs": []
    },
    {
      "cell_type": "code",
      "source": [
        "data['Sex_of_driver'].unique()"
      ],
      "metadata": {
        "colab": {
          "base_uri": "https://localhost:8080/"
        },
        "outputId": "50ae3836-b41f-44a3-a656-2cd546a43f3f",
        "id": "1calAgundCfA"
      },
      "execution_count": 35,
      "outputs": [
        {
          "output_type": "execute_result",
          "data": {
            "text/plain": [
              "array(['Male'], dtype=object)"
            ]
          },
          "metadata": {},
          "execution_count": 35
        }
      ]
    },
    {
      "cell_type": "code",
      "source": [
        "category_mapping_Vehical_driver_relation = {\n",
        "    'සේවකයා':'Employee',\n",
        "    'හිමිකරු' :'Owner',\n",
        "    'හිමිකරුගේ දරුවා':'other'\n",
        "}\n",
        "\n",
        "# Map values in 'Vehical driver relation' column to the specified categories\n",
        "data['Vehical_driver_relation'] = data['Vehical_driver_relation'].map(category_mapping_Vehical_driver_relation)"
      ],
      "metadata": {
        "id": "hqMasm9vety8"
      },
      "execution_count": 36,
      "outputs": []
    },
    {
      "cell_type": "code",
      "source": [
        "data['Vehical_driver_relation'].unique()"
      ],
      "metadata": {
        "colab": {
          "base_uri": "https://localhost:8080/"
        },
        "outputId": "3a543560-3d86-49c4-a897-8bde84cebc2b",
        "id": "5atv9WJXety9"
      },
      "execution_count": 37,
      "outputs": [
        {
          "output_type": "execute_result",
          "data": {
            "text/plain": [
              "array(['Employee', 'Owner', 'other'], dtype=object)"
            ]
          },
          "metadata": {},
          "execution_count": 37
        }
      ]
    },
    {
      "cell_type": "code",
      "source": [
        "category_mapping_Accident_severity = {\n",
        "    'බරපතල':'Serious',\n",
        "    'සුළු තුවාල':'Minor Injuries',\n",
        "    'බරපතල ':'Serious',\n",
        "    'මාරක':'Fatal',\n",
        "    'බරපතලතුවාල':'Serious',\n",
        "    'බරපතල තුවාල':'Serious',\n",
        "    ' අලාබ':'Damaged',\n",
        "    'අලාබ':'Damaged'\n",
        "}\n",
        "\n",
        "# Map values in 'Accident severity' column to the specified categories\n",
        "data['Accident_severity'] = data['Accident_severity'].map(category_mapping_Accident_severity)"
      ],
      "metadata": {
        "id": "tAy6c-QVfyp0"
      },
      "execution_count": 38,
      "outputs": []
    },
    {
      "cell_type": "code",
      "source": [
        "data['Accident_severity'].unique()"
      ],
      "metadata": {
        "colab": {
          "base_uri": "https://localhost:8080/"
        },
        "outputId": "317caf5b-dba1-4031-8878-bfa8216cae48",
        "id": "ajynDLy3fyp1"
      },
      "execution_count": 39,
      "outputs": [
        {
          "output_type": "execute_result",
          "data": {
            "text/plain": [
              "array(['Serious', 'Minor Injuries', 'Fatal', 'Damaged'], dtype=object)"
            ]
          },
          "metadata": {},
          "execution_count": 39
        }
      ]
    },
    {
      "cell_type": "code",
      "source": [
        "category_mapping_Type_of_vehicle = {\n",
        "    'ලොරි':'lorry',\n",
        "    'ත්\\u200dරිවිල්':'Three wheel',\n",
        "    'ය/පැ':'Moter bike',\n",
        "    'කාර්':'car',\n",
        "    'ටිපර්':'Tipper',\n",
        "    'වැන්':'Van',\n",
        "    'වෑන්':'Van',\n",
        "    'කැබ්':'Van',\n",
        "    'යැ/පැ':'Moter bike',\n",
        "    'බස්':'Bus',\n",
        "    'බට්ටා ලොරි':'lorry',\n",
        "    'බව්සර්':'Bowser',\n",
        "    'කන්ටේනර්':'Container',\n",
        "    'ඩිමේ බට්ටා ලොරි':'lorry',\n",
        "    'සැ/ ලොරි':'lorry'\n",
        "}\n",
        "\n",
        "# Map values in 'Type_of_vehicle' column to the specified categories\n",
        "data['Type_of_vehicle'] = data['Type_of_vehicle'].map(category_mapping_Type_of_vehicle)"
      ],
      "metadata": {
        "id": "WlkitDrnvADa"
      },
      "execution_count": 40,
      "outputs": []
    },
    {
      "cell_type": "code",
      "source": [
        "data['Type_of_vehicle'].unique()"
      ],
      "metadata": {
        "colab": {
          "base_uri": "https://localhost:8080/"
        },
        "id": "Wqf72TlnvGl2",
        "outputId": "797f4527-b550-4517-d2d9-a1204cf1e9b3"
      },
      "execution_count": 41,
      "outputs": [
        {
          "output_type": "execute_result",
          "data": {
            "text/plain": [
              "array(['lorry', 'Three wheel', 'Moter bike', 'car', 'Tipper', 'Van',\n",
              "       'Bus', 'Bowser', 'Container'], dtype=object)"
            ]
          },
          "metadata": {},
          "execution_count": 41
        }
      ]
    },
    {
      "cell_type": "code",
      "source": [
        "category_mapping_Lanes_or_Medians = {\n",
        "    'මාර්ග සලකුණු සහිතව බෙදා ඇත':'Two-way',\n",
        "    ' එම':'Two-way',\n",
        "    'නැත' :'Undivided',\n",
        "    'මාර්ග සකුනු සහිතබෙදා ඇත':'Two-way',\n",
        "    'එම':'Two-way',\n",
        "    'මාර්ගසලකුණු සහිතව බෙදා ඇත.':'Two-way',\n",
        "    'මාර්ග සලකුනු සහිත බෙදා ඇත':'Two-way'\n",
        "}\n",
        "\n",
        "# Map values in 'Lanes_or_Medians' column to the specified categories\n",
        "data['Lanes_or_Medians'] = data['Lanes_or_Medians'].map(category_mapping_Lanes_or_Medians)"
      ],
      "metadata": {
        "id": "cT0nlF41wdDO"
      },
      "execution_count": 42,
      "outputs": []
    },
    {
      "cell_type": "code",
      "source": [
        "data['Lanes_or_Medians'].unique()"
      ],
      "metadata": {
        "colab": {
          "base_uri": "https://localhost:8080/"
        },
        "outputId": "e54ca6c3-750a-430c-e646-eff42a3a84b8",
        "id": "fU4Wf88QwdDQ"
      },
      "execution_count": 43,
      "outputs": [
        {
          "output_type": "execute_result",
          "data": {
            "text/plain": [
              "array(['Two-way', 'Undivided'], dtype=object)"
            ]
          },
          "metadata": {},
          "execution_count": 43
        }
      ]
    },
    {
      "cell_type": "code",
      "source": [
        "category_mapping_Type_of_collision = {\n",
        "    'වාහන':'Vehicle with vehicle collision',\n",
        "    'පෙරලිමෙන්':'Rollover',\n",
        "    'පදිකයින්':'Collision with pedestrians',\n",
        "    'පදකයා':'Collision with pedestrians',\n",
        "    'මගියා':'Collision with pedestrians',\n",
        "    'පදික කාන්තාව':'Collision with pedestrians',\n",
        "    'පා පැදි':'Vehicle with vehicle collision',\n",
        "    'පදිකයා':'Collision with pedestrians'\n",
        "}\n",
        "\n",
        "# Map values in 'Type_of_collision' column to the specified categories\n",
        "data['Type_of_collision'] = data['Type_of_collision'].map(category_mapping_Type_of_collision)"
      ],
      "metadata": {
        "id": "s8wAofRVyo0D"
      },
      "execution_count": 44,
      "outputs": []
    },
    {
      "cell_type": "code",
      "source": [
        "data['Type_of_collision'].unique()"
      ],
      "metadata": {
        "colab": {
          "base_uri": "https://localhost:8080/"
        },
        "outputId": "206284fa-8a94-4089-a164-f243d31f0fa5",
        "id": "YgusmBVFyo0W"
      },
      "execution_count": 45,
      "outputs": [
        {
          "output_type": "execute_result",
          "data": {
            "text/plain": [
              "array(['Vehicle with vehicle collision', 'Rollover',\n",
              "       'Collision with pedestrians'], dtype=object)"
            ]
          },
          "metadata": {},
          "execution_count": 45
        }
      ]
    },
    {
      "cell_type": "code",
      "source": [
        "category_mapping_Head_On_collision = {\n",
        "    'පිටුපස ගැටිම':'Back bump',\n",
        "    'දකුනට බරව':'Heavy to the right',\n",
        "    'මුහුණට මුහුණ':'Face to face',\n",
        "    '         දකුණට බරව':'Heavy to the right',\n",
        "    'දකුණට බරව':'Heavy to the right',\n",
        "    'හැරවිමට යාමේදි':'Turning',\n",
        "    'පෙරලිමෙන්':'Overturning',\n",
        "    'හැරවිමේදි':'Turning',\n",
        "    'පසුපස ගැටිම':'Back bump',\n",
        "    'මාර්ගයෙන් ඉවතට ගොස්':'Going off the road',\n",
        "    'දකුණු පසට හැරවීමේදී':'Turning right',\n",
        "    'පා පුවරුවේ ගමන්ගත්':'Walking on the footboard'\n",
        "}\n",
        "\n",
        "# Map values in 'Head_On_collision' column to the specified categories\n",
        "data['Head_On_collision'] = data['Head_On_collision'].map(category_mapping_Head_On_collision)"
      ],
      "metadata": {
        "id": "jiqb6Wjpz2sc"
      },
      "execution_count": 46,
      "outputs": []
    },
    {
      "cell_type": "code",
      "source": [
        "data['Head_On_collision'].unique()"
      ],
      "metadata": {
        "colab": {
          "base_uri": "https://localhost:8080/"
        },
        "outputId": "322e973a-7ff3-4283-a970-1b346978ae0d",
        "id": "9XrX3NAEz2sd"
      },
      "execution_count": 47,
      "outputs": [
        {
          "output_type": "execute_result",
          "data": {
            "text/plain": [
              "array(['Back bump', 'Heavy to the right', 'Face to face', 'Turning',\n",
              "       'Overturning', 'Going off the road', 'Turning right',\n",
              "       'Walking on the footboard'], dtype=object)"
            ]
          },
          "metadata": {},
          "execution_count": 47
        }
      ]
    },
    {
      "cell_type": "code",
      "source": [
        "category_mapping_Vehicle_movement = {\n",
        "    'කෙලින්':'Going straight',\n",
        "    'කෙලි න් ':'Going straight',\n",
        "    'කෙලින් ':'Going straight',\n",
        "    'වංගු සහිත':'winding',\n",
        "    'දකුණට බරව':'Right Heavily',\n",
        "    'වමට බරව':'Left Heavily'\n",
        "}\n",
        "\n",
        "# Map values in 'Vehicle_movement' column to the specified categories\n",
        "data['Vehicle_movement'] = data['Vehicle_movement'].map(category_mapping_Vehicle_movement)"
      ],
      "metadata": {
        "id": "T3179Ynr1tLV"
      },
      "execution_count": 48,
      "outputs": []
    },
    {
      "cell_type": "code",
      "source": [
        "data['Vehicle_movement'].unique()"
      ],
      "metadata": {
        "colab": {
          "base_uri": "https://localhost:8080/"
        },
        "outputId": "b391c8a0-134a-4856-b859-cd07447ffadb",
        "id": "PYsYUUak1tLW"
      },
      "execution_count": 49,
      "outputs": [
        {
          "output_type": "execute_result",
          "data": {
            "text/plain": [
              "array(['Going straight', 'winding', 'Right Heavily', 'Left Heavily'],\n",
              "      dtype=object)"
            ]
          },
          "metadata": {},
          "execution_count": 49
        }
      ]
    },
    {
      "cell_type": "code",
      "source": [
        "category_mapping_Number_of_persons_killed  = {\n",
        "    'නැත':0 ,\n",
        "    1:1 ,\n",
        "    'ඇත':'Have'\n",
        "}\n",
        "\n",
        "# Map values in 'Number_of_persons_killed ' column to the specified categories\n",
        "data['Number_of_persons_killed '] = data['Number_of_persons_killed '].map(category_mapping_Number_of_persons_killed )"
      ],
      "metadata": {
        "id": "-J4aiJQF8oO1"
      },
      "execution_count": 50,
      "outputs": []
    },
    {
      "cell_type": "code",
      "source": [
        "data['Number_of_persons_killed '].unique()"
      ],
      "metadata": {
        "colab": {
          "base_uri": "https://localhost:8080/"
        },
        "outputId": "e6d3e172-996b-4989-be8c-02f94d1fc2a9",
        "id": "Dj3RM-vV8oPL"
      },
      "execution_count": 51,
      "outputs": [
        {
          "output_type": "execute_result",
          "data": {
            "text/plain": [
              "array([nan, 0, 1, 'Have'], dtype=object)"
            ]
          },
          "metadata": {},
          "execution_count": 51
        }
      ]
    },
    {
      "cell_type": "code",
      "source": [
        "category_mapping_Number_of_persons_injured  = {\n",
        "    'නැත':0 ,\n",
        "    ' නැත':0,\n",
        "    1:1 ,\n",
        "    2:2,\n",
        "    3:3,\n",
        "    6:6,\n",
        "    14:14\n",
        "}\n",
        "\n",
        "# Map values in 'Number_of_persons_injured' column to the specified categories\n",
        "data['Number_of_persons_injured'] = data['Number_of_persons_injured'].map(category_mapping_Number_of_persons_injured )"
      ],
      "metadata": {
        "id": "qLBKxVNp9olM"
      },
      "execution_count": 52,
      "outputs": []
    },
    {
      "cell_type": "code",
      "source": [
        "data['Number_of_persons_injured'].unique()"
      ],
      "metadata": {
        "colab": {
          "base_uri": "https://localhost:8080/"
        },
        "outputId": "848912c0-bcf4-42a1-8ac0-027dd4f0ddff",
        "id": "A7EIZ_rk9ole"
      },
      "execution_count": 53,
      "outputs": [
        {
          "output_type": "execute_result",
          "data": {
            "text/plain": [
              "array([ 2.,  1., nan,  0.,  3.,  6., 14.])"
            ]
          },
          "metadata": {},
          "execution_count": 53
        }
      ]
    },
    {
      "cell_type": "code",
      "source": [
        "category_mapping_Casualty_class = {\n",
        "    'රියදුරු,මගියා':'Driver and passengers',\n",
        "    'රියදුරු,':'Driver',\n",
        "    'පැදිකරු':'motorcyclist',\n",
        "    'මගින්':'Passenger',\n",
        "    'පැදිකරු,මගියා':'Driver and passengers',\n",
        "    'පැදිකරු/පසුපැදිකරු':'motorcyclist',\n",
        "    'රියදුරු':'Driver',\n",
        "    'පැදකරු':'motorcyclist',\n",
        "    'පදිකයා':'Pedestrian',\n",
        "    'යතුරුපැදිකරු':'motorcyclist',\n",
        "    'ය/පැකරු':'motorcyclist',\n",
        "    'වාහන අලාභ':'damage',\n",
        "    'රියදුරු සහ මගීන්':'Driver and passengers',\n",
        "    'මගියා':'Passenger',\n",
        "    'පදිකයින්':'Pedestrian',\n",
        "    'රිය සහයකයා':'Driver Assistant',\n",
        "    'රියදුරු/මගියා':'Driver and passengers',\n",
        "    'ත්\\u200dරිවීල් පැදිකරු':'Driver',\n",
        "    'මගීන්':'Passenger',\n",
        "    'පාපැදිකරු':'motorcyclist',\n",
        "    'පැදිකරුවන්':'motorcyclist',\n",
        "    'රියදුරු /මගියා/රිය සහයක':'Driver and passengers',\n",
        "    'ය/පැදිකරු':'motorcyclist',\n",
        "    'පදික කාන්තාව':'Pedestrian',\n",
        "    'අලාභ':'damage',\n",
        "    'පා/පැදිකරු':'motorcyclist',\n",
        "    'රියසහයක':'Driver Assistant',\n",
        "    'පසුපැදිකරු':'motorcyclist',\n",
        "    'නැත':'Yes',\n",
        "    'ඇත':'No'\n",
        "}\n",
        "\n",
        "# Map values in 'Casualty_class' column to the specified categories\n",
        "data['Casualty_class'] = data['Casualty_class'].map(category_mapping_Casualty_class)"
      ],
      "metadata": {
        "id": "LorS8Us43TxB"
      },
      "execution_count": 54,
      "outputs": []
    },
    {
      "cell_type": "code",
      "source": [
        "data['Casualty_class'].unique()"
      ],
      "metadata": {
        "colab": {
          "base_uri": "https://localhost:8080/"
        },
        "outputId": "cd9fc1de-c9cc-4e5d-a34b-a58be78c09d9",
        "id": "kirq1BDw3TxC"
      },
      "execution_count": 55,
      "outputs": [
        {
          "output_type": "execute_result",
          "data": {
            "text/plain": [
              "array(['Driver and passengers', 'Driver', 'motorcyclist', 'Passenger',\n",
              "       'Pedestrian', 'damage', 'Driver Assistant', 'Yes', 'No'],\n",
              "      dtype=object)"
            ]
          },
          "metadata": {},
          "execution_count": 55
        }
      ]
    },
    {
      "cell_type": "code",
      "source": [
        "category_mapping_Driving_experience = {\n",
        "    '2-5 අතර':'2-5',\n",
        "    '2.-.5 අතර':'2-5',\n",
        "    '01-06 අතර':'1-6',\n",
        "    '01-20 අතර':'1-20',\n",
        "    '01-10 අතර':'1-10',\n",
        "    '2-7 අතර':'2-7',\n",
        "    '10-15 අතර':'10-15',\n",
        "    '10-20 අතර':'10-20',\n",
        "    '2-10 අතර':'2-10',\n",
        "    '2-8 අතර':'2-8',\n",
        "    '1-3 අතර':'1-3',\n",
        "    '5-20 අතර':'5-20',\n",
        "    '1 පමණි':'1',\n",
        "    '1යි':'1',\n",
        "    '4යි':'4',\n",
        "    '2යි':'2',\n",
        "    'මාස 3':'0-1',\n",
        "    'නැත':'0',\n",
        "    '5-30 අතර':'5-30'\n",
        "}\n",
        "\n",
        "# Map values in 'Driving_experience' column to the specified categories\n",
        "data['Driving_experience'] = data['Driving_experience'].map(category_mapping_Driving_experience)"
      ],
      "metadata": {
        "id": "b6tfgQJH-bb9"
      },
      "execution_count": 56,
      "outputs": []
    },
    {
      "cell_type": "code",
      "source": [
        "data['Driving_experience'].unique()"
      ],
      "metadata": {
        "colab": {
          "base_uri": "https://localhost:8080/"
        },
        "outputId": "81a1a5d5-4c6f-465c-978e-b5717992051c",
        "id": "ReY_uTdz-bcS"
      },
      "execution_count": 57,
      "outputs": [
        {
          "output_type": "execute_result",
          "data": {
            "text/plain": [
              "array(['2-5', nan, '1-6', '1-20', '1-10', '2-7', '10-15', '10-20', '2-10',\n",
              "       '2-8', '1-3', '5-20', '1', '4', '2', '0-1', '0', '5-30'],\n",
              "      dtype=object)"
            ]
          },
          "metadata": {},
          "execution_count": 57
        }
      ]
    },
    {
      "cell_type": "code",
      "source": [
        "import re\n",
        "\n",
        "def clean_and_map_vehicle_age(value):\n",
        "    if pd.isna(value):\n",
        "        return None  # Handle NaN values appropriately\n",
        "\n",
        "    # Remove Sinhala characters and whitespace\n",
        "    cleaned_value = re.sub(r'[^\\d,]', '', str(value))\n",
        "\n",
        "    # Split the string based on ',' and extract the numeric part\n",
        "    parts = cleaned_value.split(',')\n",
        "    if len(parts) > 0:\n",
        "        numeric_part = parts[0].strip()  # Assuming the first part is the numeric value\n",
        "        if numeric_part:\n",
        "            try:\n",
        "                return int(numeric_part)  # Convert to integer\n",
        "            except ValueError:\n",
        "                return None  # Handle cases with non-numeric values\n",
        "    return None\n",
        "\n",
        "# Apply the function to the 'Vehicle_Age_and_Maintenance' column\n",
        "data['Vehicle_Age_and_Maintenance'] = data['Vehicle_Age_and_Maintenance'].apply(clean_and_map_vehicle_age)\n"
      ],
      "metadata": {
        "id": "-P_O-f_uDUCm"
      },
      "execution_count": 58,
      "outputs": []
    },
    {
      "cell_type": "code",
      "source": [
        "data['Vehicle_Age_and_Maintenance'].unique()"
      ],
      "metadata": {
        "colab": {
          "base_uri": "https://localhost:8080/"
        },
        "id": "DnUvfSPTENZM",
        "outputId": "6ae7dd5e-f5fe-4d12-b3a0-b6671db36718"
      },
      "execution_count": 59,
      "outputs": [
        {
          "output_type": "execute_result",
          "data": {
            "text/plain": [
              "array([ 7,  8,  4, 14, 12, 15, 30,  3,  6,  5, 36, 24, 16, 19, 34,  9, 31,\n",
              "       11, 10, 13, 26, 18, 46, 17, 27, 28, 54])"
            ]
          },
          "metadata": {},
          "execution_count": 59
        }
      ]
    },
    {
      "cell_type": "code",
      "source": [
        "# Define the mapping dictionary for Area_accident_occured\n",
        "area_mapping = {\n",
        "    'ඉපලව': 'Ipalawa',\n",
        "    'දරමිටිපොල': 'Daramitipola',\n",
        "    'ගොඩගම': 'Godagama',\n",
        "    'ගොකරැල්ල': 'Gokarella',\n",
        "    'යකල්ල': 'Yakkalla',\n",
        "    '15 කණුව': '15th Mile Post',\n",
        "    'මැද්දෙකැටිය': 'Meddekatiya',\n",
        "    'ඉබ්බාගමුව': 'Ibbagamuwa',\n",
        "    'පන්නල': 'Pannala',\n",
        "    'රත්විට': 'Rathwita',\n",
        "    '13 කණුව': '13th Mile Post',\n",
        "    'කරදගොල්ල හන්දිය': 'Karadagolla Junction',\n",
        "    'දැදුරුඔය පාලම අසල': 'Near Deduru Oya Bridge',\n",
        "    'කුඩාඹය පාලම අසල': 'Near Kudambe Bridge',\n",
        "    'මි වැව දේවාලය අසල': 'Near Miwewa Temple',\n",
        "    'පාන්ගොල්ල': 'Pangolla',\n",
        "    'නාමල්ලංග': 'Namallanga',\n",
        "    'තල්ගොඩපිටිය': 'Thalgodapitiya',\n",
        "    'පොල්ගොල්ල': 'Polgolla',\n",
        "    'දෙහෙල්ගමුව': 'Dehelgamuwa',\n",
        "    'වල්පොල පාර': 'Walpola Road',\n",
        "    'අඹන්පොල': 'Ambanpola',\n",
        "    'පැලකුබුර': 'Palakubura',\n",
        "    'බක්මීගොල්ල': 'Bakmigolla',\n",
        "    'බලවත්තල': 'Balawathtala',\n",
        "    'උඩවෙල': 'Udawela',\n",
        "    'රණවිරුගම පාර': 'Ranawirugama Road',\n",
        "    'කරදගොල්ල': 'Karadagolla',\n",
        "    'ගොපල්ලව පාර': 'Gopallawa Road',\n",
        "    'මඩගල්ල පාර': 'Madagalla Road',\n",
        "    'සියබලා වැහැර': 'Siyabala Wehera',\n",
        "    'බතලගොඩ වැව පාර': 'Bathalagoda Lake Road',\n",
        "    '15 කනුව': '15th Mile Post',\n",
        "    'කලුගමුව': 'Kalugamuwa',\n",
        "    'මුදුන්දුව': 'Mudunduwa',\n",
        "    'කිබුල්වානා වැව පාර': 'Kibulwana Lake Road',\n",
        "    'වල්පොල': 'Walpola',\n",
        "    'උඩතම්මිට': 'Udatammita',\n",
        "    'කරව්වැව': 'Karavwewa'\n",
        "}\n",
        "\n",
        "# Map the values in the Area_accident_occured column\n",
        "data['Area_accident_occured'] = data['Area_accident_occured'].map(area_mapping)"
      ],
      "metadata": {
        "id": "WgeQlMlRIFNb"
      },
      "execution_count": 60,
      "outputs": []
    },
    {
      "cell_type": "code",
      "source": [
        "data['Area_accident_occured'].unique()"
      ],
      "metadata": {
        "colab": {
          "base_uri": "https://localhost:8080/"
        },
        "id": "-XBnW73TIE7k",
        "outputId": "3fefa622-d17d-4d94-bf89-564c26c43173"
      },
      "execution_count": 61,
      "outputs": [
        {
          "output_type": "execute_result",
          "data": {
            "text/plain": [
              "array(['Ipalawa', nan, 'Godagama', 'Gokarella', 'Yakkalla',\n",
              "       '15th Mile Post', 'Meddekatiya', 'Ibbagamuwa', 'Pannala',\n",
              "       'Rathwita', '13th Mile Post', 'Karadagolla Junction',\n",
              "       'Near Deduru Oya Bridge', 'Near Kudambe Bridge',\n",
              "       'Near Miwewa Temple', 'Namallanga', 'Thalgodapitiya', 'Polgolla',\n",
              "       'Dehelgamuwa', 'Walpola Road', 'Ambanpola', 'Palakubura',\n",
              "       'Bakmigolla', 'Balawathtala', 'Udawela', 'Ranawirugama Road',\n",
              "       'Gopallawa Road', 'Madagalla Road', 'Siyabala Wehera',\n",
              "       'Bathalagoda Lake Road', 'Kalugamuwa', 'Mudunduwa',\n",
              "       'Kibulwana Lake Road', 'Walpola', 'Udatammita', 'Karavwewa'],\n",
              "      dtype=object)"
            ]
          },
          "metadata": {},
          "execution_count": 61
        }
      ]
    },
    {
      "cell_type": "code",
      "source": [
        "# Display unique values for all columns\n",
        "for column in numerical_cols + categorical_cols:\n",
        "    if column in data.columns:\n",
        "        print(f\"Unique values for '{column}': {data[column].unique()}\\n\")\n",
        "    else:\n",
        "        print(f\"Column '{column}' not found in the dataset.\\n\")"
      ],
      "metadata": {
        "colab": {
          "base_uri": "https://localhost:8080/"
        },
        "id": "6nV3FK3vAV45",
        "outputId": "0c28063e-2fd1-42fe-cab8-3a203e8cfabb"
      },
      "execution_count": 62,
      "outputs": [
        {
          "output_type": "stream",
          "name": "stdout",
          "text": [
            "Unique values for 'Accident_index': [  1.   2.   3.   4.   5.   6.   7.   8.   9.  10.  11.  12.  13.  14.\n",
            "  15.  16.  17.  18.  19.  20.  21.  22.  23.  24.  25.  26.  27.  28.\n",
            "  29.  30.  31.  32.  33.  34.  35.  36.  37.  38.  39.  40.  41.  42.\n",
            "  43.  44.  45.  46.  47.  48.  49.  50.  51.  52.  53.  54.  55.  56.\n",
            "  57.  58.  59.  60.  61.  62.  63.  64.  65.  66.  67.  68.  69.  70.\n",
            "  71.  72.  73.  74.  75.  76.  77.  78.  79.  80.  81.  82.  83.  84.\n",
            "  85.  86.  87.  88.  89.  90.  91.  92.  93.  94.  95.  96.  97.  98.\n",
            "  99. 100.]\n",
            "\n",
            "Unique values for 'Age_of_driver': [41 46 18 30 24 25 20 53 31 43 48 44 23 47 35 29 45 55 39 32 26 28 27 21\n",
            " 67 36 19 54 59 42 69 38 52 49 34 56 22 37 40 57 51 16 75 62 33 15 58 64\n",
            " 70 60]\n",
            "\n",
            "Unique values for 'Service_year_of_vehicle': [2015. 2016. 2018. 2008. 2010. 2007. 1992. 2012. 2019. 2020. 2017. 1988.\n",
            " 2009. 2000. 2005. 1990. 1993. 2013. 2014. 2011. 1998. 2006. 1978. 1997.\n",
            " 1994. 1996. 1970.   nan]\n",
            "\n",
            "Unique values for 'Number_of_vehicles_involved': [3. 2. 1.]\n",
            "\n",
            "Unique values for 'Date': [\"2022'01'01\" '2022.01.01 ' '2022.01.03' '2022.01.09 ' '2022.01.12'\n",
            " '2022.01.13' '2022.01.17' '2022.01.22 ' '2022.01.23' '2022.01.24'\n",
            " '2022.01.25' '2022.01.30' \"2022'01'31\" '2022.02.04' '2022.02.11'\n",
            " '2022.02.15' '2022.02.22' '2022.02.23' '2022.02.24' '2022.02.25'\n",
            " '2022.02.27' '2022.03.06' '2022.03.25' '2022.03.07' '2022.03.13'\n",
            " '2022.03.14' '2022.03.20' '2022.03.21' '2022.03.23' '2022.03.29'\n",
            " '2022.03.26' '2022.03.31' '2022.04.02' '2022.04.08' '2022.04.11'\n",
            " '2022.04.10' '2022.04.19' '2022.05.02' '2022.05.05' '2022.05.6'\n",
            " '2022.05.06' '2022.05.15' '2022.05.29' '2022.06.05' '2022.06.06'\n",
            " '2022.06.02' '2022.06.03' '2022.06.02.' '2022.06.16' '2022.06.15'\n",
            " '2022.06.20' '2022.06.25' '2022.06.29' '2022.08.01' '2022.08.06'\n",
            " '2022.08.08' '2022.08.10' '2022.08.16' '2022.08.17' '2022.08.18'\n",
            " '2022.08.20' '2022.08.26' '2022.08.29' '2022.08.30' '2022.09.03'\n",
            " '2022.09.05' '2022.09.12' '2022.09.21' '2022.09.23' '2022.10.04'\n",
            " '2022.10.10' '2022.10.12' '2022.10.25' '2022.11.12' '2022.11.15'\n",
            " '2022.11.22' '2022.11.25' '2022.11.28' '2022.12.01' '2022.12.05'\n",
            " '2022.12.11' '2022.12.12' '2022.12.17' '2022.12.22' '2022.12.29'\n",
            " '2022.12.30' '2023.01.01' '2023.01.11' '2023.01.13' '2023.01.15'\n",
            " '2023.01.16' '2023.02.01' '2023.02.4' '2023.02.05' '2023.02.13'\n",
            " '2023.02.18' '2023.02.17' '2023.02.19' '2023.02.22' '2023.02.25'\n",
            " '2023.03.02' '2023.03.03' '2023.03.05' '2023.03.07' '2023.03.10'\n",
            " '2023.03.11' '2023.03.13' '2023.03.14' '2023.03.15' '2023.03.24'\n",
            " '2023.03.27' '2023.04.02' '2023.04.09' '2023.04.13' '2023.04.15'\n",
            " '2023.04.16' '2023.04.21' '2023.04.30' '2023.05.08' '2023.05.18'\n",
            " '2023.05.22' '2023.05.23' '2023.05.21' '2023.05.29' '2023.05.31'\n",
            " '2023.06.01' '2023.06.03' '2023.06.12' '2023.06.14' '2023.06.21'\n",
            " '2023.06.23' '2023.06.28' '2023.06.29.' '2023.06.29' '2023.06.30'\n",
            " '2023.07.04' '2023.07.13' '2023.07.16' '2023.07.22' '2023.07.25'\n",
            " '2023.08.01' '2023.08.07' '2023.08.08' '2023.08.22' '2023.08.25'\n",
            " '2023.09.03' '2023.09.08' '2023.09.14' '2023.09.22' '2023.09.26'\n",
            " '2023.09.27' '2023.09.28' '2023.09.30' '2023.10.08.' '2023.10.13'\n",
            " '2023.10.14' '2023.10.22' '2023.10.23' '2023.10.28' '2023.11.05'\n",
            " '2023.11.09' '2023.11.06' '2023.11.14' '2023.11.18' '2023.11.25'\n",
            " '2023.11.27' '2023.11.29' '2023.12.06' '2023.12.11' '2023.12.25'\n",
            " '2023.12.28']\n",
            "\n",
            "Unique values for 'Day_of_week': ['Saturday' 'Monday' 'Sunday' 'wednesday' 'Tuesday' 'Friday' 'Wednesday']\n",
            "\n",
            "Unique values for 'Time': [600 1210 1720 1710 1530 620 1630 2315 2339 2210 1815 1610 1230 2045 1745\n",
            " 1830 1619 1750 1455 1430 1620 1300 1400 2330 420 745 2130 450 350 30 1050\n",
            " 1715 100 1730 1700 1100 1925 1330 1445 1850 1945 1930 2000 1900 800 1025\n",
            " 400 141 '18/10' '13/30' '20/05' '18/45' '19/10' '21/45' '17/30'\n",
            " datetime.datetime(1901, 6, 28, 0, 0) 1820 1615 520 1200 2015 1345 1605\n",
            " 1805 2105 2010 1420 2040 1335 1650 1225 2400 1130 2050 2020 510 1145 1840\n",
            " 1415 '00/40' datetime.datetime(2012, 7, 10, 0, 0)\n",
            " datetime.datetime(2000, 8, 1, 0, 0) 1520 1000 1940 1525 2030 1755 2215\n",
            " 1800 1350 942 1510 730 200 345 1600 1845 120 640 810 1015 715 1950 2150\n",
            " 1935 1410 930 1030 2230 2335 820 1910 2310 700 1135 1543 1020 1810 1855\n",
            " 1435 2115 1245 2250 515 215 1500 1645]\n",
            "\n",
            "Unique values for 'Accident_severity': ['Serious' 'Minor Injuries' 'Fatal' 'Damaged']\n",
            "\n",
            "Unique values for 'Sex_of_driver': ['Male']\n",
            "\n",
            "Unique values for 'Consumption': ['No' 'Yes']\n",
            "\n",
            "Unique values for 'Helmet_Usage': ['No' 'Yes']\n",
            "\n",
            "Unique values for 'Licensing_and_enforcement': ['Yes' 'No']\n",
            "\n",
            "Unique values for 'Driving_experience': ['2-5' nan '1-6' '1-20' '1-10' '2-7' '10-15' '10-20' '2-10' '2-8' '1-3'\n",
            " '5-20' '1' '4' '2' '0-1' '0' '5-30']\n",
            "\n",
            "Unique values for 'Type_of_vehicle': ['lorry' 'Three wheel' 'Moter bike' 'car' 'Tipper' 'Van' 'Bus' 'Bowser'\n",
            " 'Container']\n",
            "\n",
            "Unique values for 'Vehical_driver_relation': ['Employee' 'Owner' 'other']\n",
            "\n",
            "Unique values for 'Vehicle_Age_and_Maintenance': [ 7  8  4 14 12 15 30  3  6  5 36 24 16 19 34  9 31 11 10 13 26 18 46 17\n",
            " 27 28 54]\n",
            "\n",
            "Unique values for 'Area_accident_occured': ['Ipalawa' nan 'Godagama' 'Gokarella' 'Yakkalla' '15th Mile Post'\n",
            " 'Meddekatiya' 'Ibbagamuwa' 'Pannala' 'Rathwita' '13th Mile Post'\n",
            " 'Karadagolla Junction' 'Near Deduru Oya Bridge' 'Near Kudambe Bridge'\n",
            " 'Near Miwewa Temple' 'Namallanga' 'Thalgodapitiya' 'Polgolla'\n",
            " 'Dehelgamuwa' 'Walpola Road' 'Ambanpola' 'Palakubura' 'Bakmigolla'\n",
            " 'Balawathtala' 'Udawela' 'Ranawirugama Road' 'Gopallawa Road'\n",
            " 'Madagalla Road' 'Siyabala Wehera' 'Bathalagoda Lake Road' 'Kalugamuwa'\n",
            " 'Mudunduwa' 'Kibulwana Lake Road' 'Walpola' 'Udatammita' 'Karavwewa']\n",
            "\n",
            "Unique values for 'Lanes_or_Medians': ['Two-way' 'Undivided']\n",
            "\n",
            "Unique values for 'Types_of_Junction': ['No' nan 'Yes']\n",
            "\n",
            "Unique values for 'Road_surface_conditions': ['Dry' 'Wet' 'Flooded with water']\n",
            "\n",
            "Unique values for 'Light_condition': ['Daylight' 'No Street Light' 'Good Street Light']\n",
            "\n",
            "Unique values for 'Weather_condition': ['unknown' 'rainy']\n",
            "\n",
            "Unique values for 'Type_of_collision': ['Vehicle with vehicle collision' 'Rollover' 'Collision with pedestrians']\n",
            "\n",
            "Unique values for 'Head_On_collision': ['Back bump' 'Heavy to the right' 'Face to face' 'Turning' 'Overturning'\n",
            " 'Going off the road' 'Turning right' 'Walking on the footboard']\n",
            "\n",
            "Unique values for 'Vehicle_movement': ['Going straight' 'winding' 'Right Heavily' 'Left Heavily']\n",
            "\n",
            "Unique values for 'Number_of_persons_injured': [ 2.  1. nan  0.  3.  6. 14.]\n",
            "\n",
            "Unique values for 'Number_of_persons_killed ': [nan 0 1 'Have']\n",
            "\n",
            "Unique values for 'Casualty_class': ['Driver and passengers' 'Driver' 'motorcyclist' 'Passenger' 'Pedestrian'\n",
            " 'damage' 'Driver Assistant' 'Yes' 'No']\n",
            "\n",
            "Unique values for 'Pre_crash_factors ': ['unknown']\n",
            "\n",
            "Unique values for 'Cause_of_accident': ['negligence']\n",
            "\n",
            "Unique values for 'Pedestrian_movement': ['Not a pedestrian' 'other' 'a pedestrian' 'woman']\n",
            "\n"
          ]
        }
      ]
    },
    {
      "cell_type": "code",
      "source": [
        "from google.colab import files\n",
        "data.to_csv('modified_dataset.csv', encoding='utf-8', index=False)  # Specify encoding\n",
        "files.download('modified_dataset.csv')"
      ],
      "metadata": {
        "colab": {
          "base_uri": "https://localhost:8080/",
          "height": 17
        },
        "id": "PLJD4-veK_9D",
        "outputId": "e6244dc5-fd47-4736-8015-504e4c7b04f4"
      },
      "execution_count": 63,
      "outputs": [
        {
          "output_type": "display_data",
          "data": {
            "text/plain": [
              "<IPython.core.display.Javascript object>"
            ],
            "application/javascript": [
              "\n",
              "    async function download(id, filename, size) {\n",
              "      if (!google.colab.kernel.accessAllowed) {\n",
              "        return;\n",
              "      }\n",
              "      const div = document.createElement('div');\n",
              "      const label = document.createElement('label');\n",
              "      label.textContent = `Downloading \"${filename}\": `;\n",
              "      div.appendChild(label);\n",
              "      const progress = document.createElement('progress');\n",
              "      progress.max = size;\n",
              "      div.appendChild(progress);\n",
              "      document.body.appendChild(div);\n",
              "\n",
              "      const buffers = [];\n",
              "      let downloaded = 0;\n",
              "\n",
              "      const channel = await google.colab.kernel.comms.open(id);\n",
              "      // Send a message to notify the kernel that we're ready.\n",
              "      channel.send({})\n",
              "\n",
              "      for await (const message of channel.messages) {\n",
              "        // Send a message to notify the kernel that we're ready.\n",
              "        channel.send({})\n",
              "        if (message.buffers) {\n",
              "          for (const buffer of message.buffers) {\n",
              "            buffers.push(buffer);\n",
              "            downloaded += buffer.byteLength;\n",
              "            progress.value = downloaded;\n",
              "          }\n",
              "        }\n",
              "      }\n",
              "      const blob = new Blob(buffers, {type: 'application/binary'});\n",
              "      const a = document.createElement('a');\n",
              "      a.href = window.URL.createObjectURL(blob);\n",
              "      a.download = filename;\n",
              "      div.appendChild(a);\n",
              "      a.click();\n",
              "      div.remove();\n",
              "    }\n",
              "  "
            ]
          },
          "metadata": {}
        },
        {
          "output_type": "display_data",
          "data": {
            "text/plain": [
              "<IPython.core.display.Javascript object>"
            ],
            "application/javascript": [
              "download(\"download_d494278e-f206-44e7-a1c7-8c6edfbe298a\", \"modified_dataset.csv\", 48153)"
            ]
          },
          "metadata": {}
        }
      ]
    },
    {
      "cell_type": "code",
      "source": [
        "# Convert the DataFrame to an Excel file\n",
        "data.to_excel('modified_dataset.xlsx', index=False)\n",
        "\n",
        "# Download the Excel file\n",
        "files.download('modified_dataset.xlsx')"
      ],
      "metadata": {
        "colab": {
          "base_uri": "https://localhost:8080/",
          "height": 17
        },
        "id": "LCyoYe__L9ff",
        "outputId": "a1f8f677-e3ff-4446-bc62-2e9d45745d1f"
      },
      "execution_count": 64,
      "outputs": [
        {
          "output_type": "display_data",
          "data": {
            "text/plain": [
              "<IPython.core.display.Javascript object>"
            ],
            "application/javascript": [
              "\n",
              "    async function download(id, filename, size) {\n",
              "      if (!google.colab.kernel.accessAllowed) {\n",
              "        return;\n",
              "      }\n",
              "      const div = document.createElement('div');\n",
              "      const label = document.createElement('label');\n",
              "      label.textContent = `Downloading \"${filename}\": `;\n",
              "      div.appendChild(label);\n",
              "      const progress = document.createElement('progress');\n",
              "      progress.max = size;\n",
              "      div.appendChild(progress);\n",
              "      document.body.appendChild(div);\n",
              "\n",
              "      const buffers = [];\n",
              "      let downloaded = 0;\n",
              "\n",
              "      const channel = await google.colab.kernel.comms.open(id);\n",
              "      // Send a message to notify the kernel that we're ready.\n",
              "      channel.send({})\n",
              "\n",
              "      for await (const message of channel.messages) {\n",
              "        // Send a message to notify the kernel that we're ready.\n",
              "        channel.send({})\n",
              "        if (message.buffers) {\n",
              "          for (const buffer of message.buffers) {\n",
              "            buffers.push(buffer);\n",
              "            downloaded += buffer.byteLength;\n",
              "            progress.value = downloaded;\n",
              "          }\n",
              "        }\n",
              "      }\n",
              "      const blob = new Blob(buffers, {type: 'application/binary'});\n",
              "      const a = document.createElement('a');\n",
              "      a.href = window.URL.createObjectURL(blob);\n",
              "      a.download = filename;\n",
              "      div.appendChild(a);\n",
              "      a.click();\n",
              "      div.remove();\n",
              "    }\n",
              "  "
            ]
          },
          "metadata": {}
        },
        {
          "output_type": "display_data",
          "data": {
            "text/plain": [
              "<IPython.core.display.Javascript object>"
            ],
            "application/javascript": [
              "download(\"download_bc21c1b1-87b6-4826-a88e-9b28f62c6fe7\", \"modified_dataset.xlsx\", 31707)"
            ]
          },
          "metadata": {}
        }
      ]
    }
  ]
}